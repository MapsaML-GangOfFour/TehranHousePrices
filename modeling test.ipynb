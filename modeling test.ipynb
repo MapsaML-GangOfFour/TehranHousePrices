{
 "cells": [
  {
   "cell_type": "code",
   "execution_count": 2,
   "id": "4b5d2474",
   "metadata": {},
   "outputs": [],
   "source": [
    "import pandas as pd"
   ]
  },
  {
   "cell_type": "code",
   "execution_count": 3,
   "id": "7e7915f6",
   "metadata": {},
   "outputs": [],
   "source": [
    "import numpy as np"
   ]
  },
  {
   "cell_type": "code",
   "execution_count": 4,
   "id": "d4c37847",
   "metadata": {},
   "outputs": [],
   "source": [
    "import seaborn as sns"
   ]
  },
  {
   "cell_type": "code",
   "execution_count": 5,
   "id": "93d78a0b",
   "metadata": {},
   "outputs": [],
   "source": [
    "from sklearn.linear_model import Ridge, RidgeCV"
   ]
  },
  {
   "cell_type": "code",
   "execution_count": 6,
   "id": "b1892040",
   "metadata": {},
   "outputs": [],
   "source": [
    "from sklearn.model_selection import train_test_split"
   ]
  },
  {
   "cell_type": "code",
   "execution_count": 7,
   "id": "8d3c63bd",
   "metadata": {},
   "outputs": [],
   "source": [
    "mat_x = pd.read_pickle('./mat_x.pkl')"
   ]
  },
  {
   "cell_type": "code",
   "execution_count": 8,
   "id": "8faa5c4f",
   "metadata": {},
   "outputs": [],
   "source": [
    "vec_y = pd.read_pickle('./vec_y.pkl')"
   ]
  },
  {
   "cell_type": "code",
   "execution_count": 93,
   "id": "c10f006e",
   "metadata": {},
   "outputs": [
    {
     "data": {
      "text/plain": [
       "min     135000000\n",
       "max    1000000000\n",
       "Name: قیمت کل, dtype: int64"
      ]
     },
     "execution_count": 93,
     "metadata": {},
     "output_type": "execute_result"
    }
   ],
   "source": [
    "vec_y.apply([min, max])"
   ]
  },
  {
   "cell_type": "code",
   "execution_count": 95,
   "id": "c2a0482b",
   "metadata": {},
   "outputs": [
    {
     "data": {
      "text/html": [
       "<div>\n",
       "<style scoped>\n",
       "    .dataframe tbody tr th:only-of-type {\n",
       "        vertical-align: middle;\n",
       "    }\n",
       "\n",
       "    .dataframe tbody tr th {\n",
       "        vertical-align: top;\n",
       "    }\n",
       "\n",
       "    .dataframe thead th {\n",
       "        text-align: right;\n",
       "    }\n",
       "</style>\n",
       "<table border=\"1\" class=\"dataframe\">\n",
       "  <thead>\n",
       "    <tr style=\"text-align: right;\">\n",
       "      <th></th>\n",
       "      <th>ناحیه</th>\n",
       "      <th>متراژ</th>\n",
       "      <th>ساخت</th>\n",
       "      <th>اتاق</th>\n",
       "      <th>آسانسور</th>\n",
       "      <th>پارکینگ</th>\n",
       "      <th>انباری</th>\n",
       "      <th>تعداد واحد در طبقه</th>\n",
       "      <th>سند</th>\n",
       "      <th>جهت ساختمان</th>\n",
       "      <th>وضعیت واحد</th>\n",
       "      <th>بالکن</th>\n",
       "      <th>ایرانی</th>\n",
       "      <th>فرنگی</th>\n",
       "      <th>سرمایش</th>\n",
       "      <th>گرمایش</th>\n",
       "      <th>تأمین‌کننده آب گرم</th>\n",
       "      <th>جنس کف</th>\n",
       "      <th>طبقه واحد</th>\n",
       "      <th>کل طبقات</th>\n",
       "    </tr>\n",
       "  </thead>\n",
       "  <tbody>\n",
       "    <tr>\n",
       "      <th>24</th>\n",
       "      <td>شهریار</td>\n",
       "      <td>40</td>\n",
       "      <td>1387</td>\n",
       "      <td>1</td>\n",
       "      <td>False</td>\n",
       "      <td>False</td>\n",
       "      <td>True</td>\n",
       "      <td>۱</td>\n",
       "      <td>قول‌نامه‌ای</td>\n",
       "      <td>شمالی</td>\n",
       "      <td>بازسازی شده</td>\n",
       "      <td>True</td>\n",
       "      <td>True</td>\n",
       "      <td>True</td>\n",
       "      <td>کولر آبی</td>\n",
       "      <td>بخاری</td>\n",
       "      <td>آبگرم‌کن</td>\n",
       "      <td>سرامیک</td>\n",
       "      <td>-1</td>\n",
       "      <td>4</td>\n",
       "    </tr>\n",
       "  </tbody>\n",
       "</table>\n",
       "</div>"
      ],
      "text/plain": [
       "     ناحیه  متراژ  ساخت  اتاق  آسانسور  پارکینگ  انباری تعداد واحد در طبقه  \\\n",
       "24  شهریار     40  1387     1    False    False    True                  ۱   \n",
       "\n",
       "            سند جهت ساختمان   وضعیت واحد  بالکن  ایرانی  فرنگی    سرمایش  \\\n",
       "24  قول‌نامه‌ای       شمالی  بازسازی شده   True    True   True  کولر آبی   \n",
       "\n",
       "   گرمایش تأمین‌کننده آب گرم  جنس کف  طبقه واحد  کل طبقات  \n",
       "24  بخاری            آبگرم‌کن  سرامیک         -1         4  "
      ]
     },
     "execution_count": 95,
     "metadata": {},
     "output_type": "execute_result"
    }
   ],
   "source": [
    "mat_x[vec_y == 135000000]"
   ]
  },
  {
   "cell_type": "code",
   "execution_count": 63,
   "id": "dbc576c2",
   "metadata": {},
   "outputs": [
    {
     "data": {
      "text/plain": [
       "(2334, 20)"
      ]
     },
     "execution_count": 63,
     "metadata": {},
     "output_type": "execute_result"
    }
   ],
   "source": [
    "mat_x.shape"
   ]
  },
  {
   "cell_type": "code",
   "execution_count": 64,
   "id": "a00f38c6",
   "metadata": {},
   "outputs": [
    {
     "data": {
      "text/plain": [
       "(2334,)"
      ]
     },
     "execution_count": 64,
     "metadata": {},
     "output_type": "execute_result"
    }
   ],
   "source": [
    "vec_y.shape"
   ]
  },
  {
   "cell_type": "code",
   "execution_count": 67,
   "id": "4aead88a",
   "metadata": {},
   "outputs": [],
   "source": [
    "df = pd.concat([mat_x, vec_y], axis=1)"
   ]
  },
  {
   "cell_type": "code",
   "execution_count": 14,
   "id": "67ec774d",
   "metadata": {},
   "outputs": [
    {
     "data": {
      "text/plain": [
       "ناحیه                  category\n",
       "متراژ                     int32\n",
       "ساخت                      int64\n",
       "اتاق                      int32\n",
       "آسانسور                    bool\n",
       "پارکینگ                    bool\n",
       "انباری                     bool\n",
       "تعداد واحد در طبقه     category\n",
       "سند                    category\n",
       "جهت ساختمان            category\n",
       "وضعیت واحد             category\n",
       "بالکن                      bool\n",
       "ایرانی                     bool\n",
       "فرنگی                      bool\n",
       "سرمایش                 category\n",
       "گرمایش                 category\n",
       "تأمین‌کننده آب گرم    category\n",
       "جنس کف                 category\n",
       "طبقه واحد                 int64\n",
       "کل طبقات                  int64\n",
       "dtype: object"
      ]
     },
     "execution_count": 14,
     "metadata": {},
     "output_type": "execute_result"
    }
   ],
   "source": [
    "mat_x.dtypes"
   ]
  },
  {
   "cell_type": "code",
   "execution_count": 11,
   "id": "60b1d824",
   "metadata": {},
   "outputs": [
    {
     "data": {
      "text/html": [
       "<div>\n",
       "<style scoped>\n",
       "    .dataframe tbody tr th:only-of-type {\n",
       "        vertical-align: middle;\n",
       "    }\n",
       "\n",
       "    .dataframe tbody tr th {\n",
       "        vertical-align: top;\n",
       "    }\n",
       "\n",
       "    .dataframe thead th {\n",
       "        text-align: right;\n",
       "    }\n",
       "</style>\n",
       "<table border=\"1\" class=\"dataframe\">\n",
       "  <thead>\n",
       "    <tr style=\"text-align: right;\">\n",
       "      <th></th>\n",
       "      <th>ناحیه</th>\n",
       "      <th>متراژ</th>\n",
       "      <th>ساخت</th>\n",
       "      <th>اتاق</th>\n",
       "      <th>آسانسور</th>\n",
       "      <th>پارکینگ</th>\n",
       "      <th>انباری</th>\n",
       "      <th>تعداد واحد در طبقه</th>\n",
       "      <th>سند</th>\n",
       "      <th>جهت ساختمان</th>\n",
       "      <th>وضعیت واحد</th>\n",
       "      <th>بالکن</th>\n",
       "      <th>ایرانی</th>\n",
       "      <th>فرنگی</th>\n",
       "      <th>سرمایش</th>\n",
       "      <th>گرمایش</th>\n",
       "      <th>تأمین‌کننده آب گرم</th>\n",
       "      <th>جنس کف</th>\n",
       "      <th>طبقه واحد</th>\n",
       "      <th>کل طبقات</th>\n",
       "    </tr>\n",
       "  </thead>\n",
       "  <tbody>\n",
       "    <tr>\n",
       "      <th>1</th>\n",
       "      <td>قرچک</td>\n",
       "      <td>52</td>\n",
       "      <td>1384</td>\n",
       "      <td>1</td>\n",
       "      <td>False</td>\n",
       "      <td>False</td>\n",
       "      <td>True</td>\n",
       "      <td>۴</td>\n",
       "      <td>تک‌برگ</td>\n",
       "      <td>شمالی</td>\n",
       "      <td>بازسازی شده</td>\n",
       "      <td>True</td>\n",
       "      <td>True</td>\n",
       "      <td>True</td>\n",
       "      <td>کولر آبی</td>\n",
       "      <td>بخاری</td>\n",
       "      <td>آبگرم‌کن</td>\n",
       "      <td>سرامیک</td>\n",
       "      <td>2</td>\n",
       "      <td>4</td>\n",
       "    </tr>\n",
       "    <tr>\n",
       "      <th>5</th>\n",
       "      <td>قرچک</td>\n",
       "      <td>52</td>\n",
       "      <td>1385</td>\n",
       "      <td>1</td>\n",
       "      <td>False</td>\n",
       "      <td>True</td>\n",
       "      <td>False</td>\n",
       "      <td>۴</td>\n",
       "      <td>سایر</td>\n",
       "      <td>جنوبی</td>\n",
       "      <td>بازسازی شده</td>\n",
       "      <td>True</td>\n",
       "      <td>True</td>\n",
       "      <td>True</td>\n",
       "      <td>کولر آبی</td>\n",
       "      <td>بخاری</td>\n",
       "      <td>آبگرم‌کن</td>\n",
       "      <td>سرامیک</td>\n",
       "      <td>3</td>\n",
       "      <td>3</td>\n",
       "    </tr>\n",
       "  </tbody>\n",
       "</table>\n",
       "</div>"
      ],
      "text/plain": [
       "  ناحیه  متراژ  ساخت  اتاق  آسانسور  پارکینگ  انباری تعداد واحد در طبقه  \\\n",
       "1  قرچک     52  1384     1    False    False    True                  ۴   \n",
       "5  قرچک     52  1385     1    False     True   False                  ۴   \n",
       "\n",
       "      سند جهت ساختمان   وضعیت واحد  بالکن  ایرانی  فرنگی    سرمایش گرمایش  \\\n",
       "1  تک‌برگ       شمالی  بازسازی شده   True    True   True  کولر آبی  بخاری   \n",
       "5    سایر       جنوبی  بازسازی شده   True    True   True  کولر آبی  بخاری   \n",
       "\n",
       "  تأمین‌کننده آب گرم  جنس کف  طبقه واحد  کل طبقات  \n",
       "1            آبگرم‌کن  سرامیک          2         4  \n",
       "5            آبگرم‌کن  سرامیک          3         3  "
      ]
     },
     "execution_count": 11,
     "metadata": {},
     "output_type": "execute_result"
    }
   ],
   "source": [
    "mat_x.head(2)"
   ]
  },
  {
   "cell_type": "code",
   "execution_count": 19,
   "id": "ac9f1b43",
   "metadata": {},
   "outputs": [],
   "source": [
    "mat_x_vector = pd.get_dummies(mat_x)"
   ]
  },
  {
   "cell_type": "code",
   "execution_count": 20,
   "id": "2a3fae71",
   "metadata": {},
   "outputs": [],
   "source": [
    "x_tran, x_test, y_train, y_test = train_test_split(mat_x_vector, vec_y)"
   ]
  },
  {
   "cell_type": "code",
   "execution_count": 21,
   "id": "4d8b2c5a",
   "metadata": {},
   "outputs": [
    {
     "data": {
      "text/plain": [
       "متراژ                 int32\n",
       "ساخت                  int64\n",
       "اتاق                  int32\n",
       "آسانسور                bool\n",
       "پارکینگ                bool\n",
       "                      ...  \n",
       "جنس کف_موزائیک        uint8\n",
       "جنس کف_موکت           uint8\n",
       "جنس کف_پارکت لمینت    uint8\n",
       "جنس کف_پارکت چوب      uint8\n",
       "جنس کف_کف‌پوش PVC     uint8\n",
       "Length: 297, dtype: object"
      ]
     },
     "execution_count": 21,
     "metadata": {},
     "output_type": "execute_result"
    }
   ],
   "source": [
    "x_tran.dtypes"
   ]
  },
  {
   "cell_type": "code",
   "execution_count": 22,
   "id": "c37c79f5",
   "metadata": {},
   "outputs": [],
   "source": [
    "model = Ridge(alpha=0.1, normalize=True).fit(x_tran, y_train)"
   ]
  },
  {
   "cell_type": "code",
   "execution_count": 23,
   "id": "7dbc066d",
   "metadata": {},
   "outputs": [
    {
     "data": {
      "text/plain": [
       "0.6597632298656542"
      ]
     },
     "execution_count": 23,
     "metadata": {},
     "output_type": "execute_result"
    }
   ],
   "source": [
    "model.score(x_tran, y_train)"
   ]
  },
  {
   "cell_type": "code",
   "execution_count": 24,
   "id": "5ac1c3da",
   "metadata": {},
   "outputs": [
    {
     "data": {
      "text/plain": [
       "0.5430837269179452"
      ]
     },
     "execution_count": 24,
     "metadata": {},
     "output_type": "execute_result"
    }
   ],
   "source": [
    "model.score(x_test, y_test)"
   ]
  },
  {
   "cell_type": "code",
   "execution_count": 25,
   "id": "4c97ddc6",
   "metadata": {},
   "outputs": [],
   "source": [
    "y_predict_train = model.predict(x_tran)"
   ]
  },
  {
   "cell_type": "code",
   "execution_count": 29,
   "id": "e1eed13d",
   "metadata": {},
   "outputs": [
    {
     "data": {
      "text/plain": [
       "<AxesSubplot:xlabel='قیمت کل'>"
      ]
     },
     "execution_count": 29,
     "metadata": {},
     "output_type": "execute_result"
    },
    {
     "data": {
      "image/png": "[encoded data removed]",
      "text/plain": [
       "<Figure size 432x288 with 1 Axes>"
      ]
     },
     "metadata": {
      "needs_background": "light"
     },
     "output_type": "display_data"
    }
   ],
   "source": [
    "sns.scatterplot(x=y_train, y=y_predict_train)\n",
    "point = np.array([y_train.min(), y_train.max()])\n",
    "sns.lineplot(x=point, y=point, color='k')\n",
    "prsnt = 0.5\n",
    "sns.lineplot(x=point, y=point * ( 1 + prsnt), color='r')\n",
    "sns.lineplot(x=point, y=point * ( 1 - prsnt), color='r')"
   ]
  },
  {
   "cell_type": "code",
   "execution_count": 30,
   "id": "4864f280",
   "metadata": {},
   "outputs": [],
   "source": [
    "error = y_predict_train - y_train"
   ]
  },
  {
   "cell_type": "code",
   "execution_count": 34,
   "id": "b5648f10",
   "metadata": {},
   "outputs": [
    {
     "data": {
      "text/plain": [
       "<AxesSubplot:ylabel='Frequency'>"
      ]
     },
     "execution_count": 34,
     "metadata": {},
     "output_type": "execute_result"
    },
    {
     "data": {
      "image/png": "[encoded data removed]",
      "text/plain": [
       "<Figure size 432x288 with 1 Axes>"
      ]
     },
     "metadata": {
      "needs_background": "light"
     },
     "output_type": "display_data"
    }
   ],
   "source": [
    "error.plot(kind='hist', bins=50)"
   ]
  },
  {
   "cell_type": "code",
   "execution_count": 58,
   "id": "cb8887d5",
   "metadata": {},
   "outputs": [],
   "source": [
    "model2 = Ridge(alpha=0.5, normalize=True).fit(x_tran, y_train)"
   ]
  },
  {
   "cell_type": "code",
   "execution_count": 59,
   "id": "17cedb5e",
   "metadata": {},
   "outputs": [
    {
     "data": {
      "text/plain": [
       "0.5694201612297973"
      ]
     },
     "execution_count": 59,
     "metadata": {},
     "output_type": "execute_result"
    }
   ],
   "source": [
    "model2.score(x_tran, y_train)"
   ]
  },
  {
   "cell_type": "code",
   "execution_count": 60,
   "id": "48b87143",
   "metadata": {},
   "outputs": [
    {
     "data": {
      "text/plain": [
       "0.49083178203835753"
      ]
     },
     "execution_count": 60,
     "metadata": {},
     "output_type": "execute_result"
    }
   ],
   "source": [
    "model2.score(x_test, y_test)"
   ]
  },
  {
   "cell_type": "code",
   "execution_count": 61,
   "id": "1bf628b5",
   "metadata": {},
   "outputs": [],
   "source": [
    "y_predict2_train = model2.predict(x_tran)"
   ]
  },
  {
   "cell_type": "code",
   "execution_count": 62,
   "id": "98d215de",
   "metadata": {},
   "outputs": [
    {
     "data": {
      "text/plain": [
       "<AxesSubplot:xlabel='قیمت کل'>"
      ]
     },
     "execution_count": 62,
     "metadata": {},
     "output_type": "execute_result"
    },
    {
     "data": {
      "image/png": "[encoded data removed]",
      "text/plain": [
       "<Figure size 432x288 with 1 Axes>"
      ]
     },
     "metadata": {
      "needs_background": "light"
     },
     "output_type": "display_data"
    }
   ],
   "source": [
    "sns.scatterplot(x=y_train, y=y_predict_train)\n",
    "sns.scatterplot(x=y_train, y=y_predict2_train, color='g')\n",
    "point = np.array([y_train.min(), y_train.max()])\n",
    "sns.lineplot(x=point, y=point, color='k')\n",
    "prsnt = 0.5\n",
    "sns.lineplot(x=point, y=point * ( 1 + prsnt), color='r')\n",
    "sns.lineplot(x=point, y=point * ( 1 - prsnt), color='r')"
   ]
  },
  {
   "cell_type": "code",
   "execution_count": 40,
   "id": "fb618174",
   "metadata": {},
   "outputs": [],
   "source": [
    "error2 = y_predict2_train - y_train"
   ]
  },
  {
   "cell_type": "code",
   "execution_count": 41,
   "id": "4fbd3ec1",
   "metadata": {},
   "outputs": [
    {
     "data": {
      "text/plain": [
       "<AxesSubplot:ylabel='Frequency'>"
      ]
     },
     "execution_count": 41,
     "metadata": {},
     "output_type": "execute_result"
    },
    {
     "data": {
      "image/png": "[encoded data removed]",
      "text/plain": [
       "<Figure size 432x288 with 1 Axes>"
      ]
     },
     "metadata": {
      "needs_background": "light"
     },
     "output_type": "display_data"
    }
   ],
   "source": [
    "error2.plot(kind='hist', bins=50)"
   ]
  },
  {
   "cell_type": "code",
   "execution_count": 89,
   "id": "ae330729",
   "metadata": {},
   "outputs": [],
   "source": [
    "phi_dist = df.groupby('ناحیه').agg({'قیمت کل':np.mean}).dropna()"
   ]
  },
  {
   "cell_type": "code",
   "execution_count": 92,
   "id": "14a89a45",
   "metadata": {},
   "outputs": [
    {
     "data": {
      "text/plain": [
       "<AxesSubplot:ylabel='Frequency'>"
      ]
     },
     "execution_count": 92,
     "metadata": {},
     "output_type": "execute_result"
    },
    {
     "data": {
      "image/png": "[encoded data removed]",
      "text/plain": [
       "<Figure size 432x288 with 1 Axes>"
      ]
     },
     "metadata": {
      "needs_background": "light"
     },
     "output_type": "display_data"
    }
   ],
   "source": [
    "phi_dist.plot(kind='hist', bins=10)"
   ]
  },
  {
   "cell_type": "code",
   "execution_count": 114,
   "id": "3b495238",
   "metadata": {},
   "outputs": [
    {
     "data": {
      "text/html": [
       "<div>\n",
       "<style scoped>\n",
       "    .dataframe tbody tr th:only-of-type {\n",
       "        vertical-align: middle;\n",
       "    }\n",
       "\n",
       "    .dataframe tbody tr th {\n",
       "        vertical-align: top;\n",
       "    }\n",
       "\n",
       "    .dataframe thead th {\n",
       "        text-align: right;\n",
       "    }\n",
       "</style>\n",
       "<table border=\"1\" class=\"dataframe\">\n",
       "  <thead>\n",
       "    <tr style=\"text-align: right;\">\n",
       "      <th></th>\n",
       "      <th>متراژ</th>\n",
       "      <th>ساخت</th>\n",
       "      <th>اتاق</th>\n",
       "      <th>پارکینگ</th>\n",
       "      <th>تعداد واحد در طبقه</th>\n",
       "      <th>جهت ساختمان</th>\n",
       "      <th>طبقه واحد</th>\n",
       "      <th>کل طبقات</th>\n",
       "      <th>قیمت کل</th>\n",
       "    </tr>\n",
       "  </thead>\n",
       "  <tbody>\n",
       "    <tr>\n",
       "      <th>3109</th>\n",
       "      <td>88</td>\n",
       "      <td>1400</td>\n",
       "      <td>2</td>\n",
       "      <td>True</td>\n",
       "      <td>۴</td>\n",
       "      <td>جنوبی</td>\n",
       "      <td>0</td>\n",
       "      <td>16</td>\n",
       "      <td>595200000</td>\n",
       "    </tr>\n",
       "    <tr>\n",
       "      <th>5760</th>\n",
       "      <td>87</td>\n",
       "      <td>1399</td>\n",
       "      <td>2</td>\n",
       "      <td>True</td>\n",
       "      <td>۴</td>\n",
       "      <td>شمالی</td>\n",
       "      <td>1</td>\n",
       "      <td>14</td>\n",
       "      <td>660000000</td>\n",
       "    </tr>\n",
       "    <tr>\n",
       "      <th>5875</th>\n",
       "      <td>100</td>\n",
       "      <td>1400</td>\n",
       "      <td>2</td>\n",
       "      <td>True</td>\n",
       "      <td>۲</td>\n",
       "      <td>جنوبی</td>\n",
       "      <td>4</td>\n",
       "      <td>5</td>\n",
       "      <td>770000000</td>\n",
       "    </tr>\n",
       "    <tr>\n",
       "      <th>6621</th>\n",
       "      <td>64</td>\n",
       "      <td>1398</td>\n",
       "      <td>1</td>\n",
       "      <td>True</td>\n",
       "      <td>۴</td>\n",
       "      <td>جنوبی</td>\n",
       "      <td>1</td>\n",
       "      <td>14</td>\n",
       "      <td>770000000</td>\n",
       "    </tr>\n",
       "    <tr>\n",
       "      <th>6671</th>\n",
       "      <td>82</td>\n",
       "      <td>1397</td>\n",
       "      <td>2</td>\n",
       "      <td>False</td>\n",
       "      <td>۲</td>\n",
       "      <td>غربی</td>\n",
       "      <td>4</td>\n",
       "      <td>4</td>\n",
       "      <td>800000000</td>\n",
       "    </tr>\n",
       "    <tr>\n",
       "      <th>7006</th>\n",
       "      <td>88</td>\n",
       "      <td>1399</td>\n",
       "      <td>2</td>\n",
       "      <td>True</td>\n",
       "      <td>۴</td>\n",
       "      <td>شمالی</td>\n",
       "      <td>2</td>\n",
       "      <td>14</td>\n",
       "      <td>750000000</td>\n",
       "    </tr>\n",
       "    <tr>\n",
       "      <th>7566</th>\n",
       "      <td>100</td>\n",
       "      <td>1400</td>\n",
       "      <td>2</td>\n",
       "      <td>True</td>\n",
       "      <td>۲</td>\n",
       "      <td>غربی</td>\n",
       "      <td>1</td>\n",
       "      <td>5</td>\n",
       "      <td>780000000</td>\n",
       "    </tr>\n",
       "    <tr>\n",
       "      <th>8541</th>\n",
       "      <td>80</td>\n",
       "      <td>1395</td>\n",
       "      <td>2</td>\n",
       "      <td>False</td>\n",
       "      <td>۴</td>\n",
       "      <td>جنوبی</td>\n",
       "      <td>8</td>\n",
       "      <td>9</td>\n",
       "      <td>900000000</td>\n",
       "    </tr>\n",
       "    <tr>\n",
       "      <th>9242</th>\n",
       "      <td>97</td>\n",
       "      <td>1399</td>\n",
       "      <td>2</td>\n",
       "      <td>True</td>\n",
       "      <td>۲</td>\n",
       "      <td>جنوبی</td>\n",
       "      <td>4</td>\n",
       "      <td>4</td>\n",
       "      <td>835000000</td>\n",
       "    </tr>\n",
       "    <tr>\n",
       "      <th>9519</th>\n",
       "      <td>87</td>\n",
       "      <td>1399</td>\n",
       "      <td>2</td>\n",
       "      <td>True</td>\n",
       "      <td>۴</td>\n",
       "      <td>شمالی</td>\n",
       "      <td>1</td>\n",
       "      <td>14</td>\n",
       "      <td>830000000</td>\n",
       "    </tr>\n",
       "    <tr>\n",
       "      <th>10939</th>\n",
       "      <td>87</td>\n",
       "      <td>1399</td>\n",
       "      <td>2</td>\n",
       "      <td>True</td>\n",
       "      <td>۴</td>\n",
       "      <td>جنوبی</td>\n",
       "      <td>6</td>\n",
       "      <td>14</td>\n",
       "      <td>940000000</td>\n",
       "    </tr>\n",
       "    <tr>\n",
       "      <th>10979</th>\n",
       "      <td>87</td>\n",
       "      <td>1399</td>\n",
       "      <td>2</td>\n",
       "      <td>True</td>\n",
       "      <td>۴</td>\n",
       "      <td>جنوبی</td>\n",
       "      <td>10</td>\n",
       "      <td>14</td>\n",
       "      <td>950000000</td>\n",
       "    </tr>\n",
       "    <tr>\n",
       "      <th>11357</th>\n",
       "      <td>87</td>\n",
       "      <td>1400</td>\n",
       "      <td>2</td>\n",
       "      <td>False</td>\n",
       "      <td>۴</td>\n",
       "      <td>جنوبی</td>\n",
       "      <td>5</td>\n",
       "      <td>13</td>\n",
       "      <td>980000000</td>\n",
       "    </tr>\n",
       "    <tr>\n",
       "      <th>11378</th>\n",
       "      <td>75</td>\n",
       "      <td>1395</td>\n",
       "      <td>2</td>\n",
       "      <td>False</td>\n",
       "      <td>۶</td>\n",
       "      <td>جنوبی</td>\n",
       "      <td>2</td>\n",
       "      <td>9</td>\n",
       "      <td>980000000</td>\n",
       "    </tr>\n",
       "    <tr>\n",
       "      <th>11578</th>\n",
       "      <td>75</td>\n",
       "      <td>1395</td>\n",
       "      <td>2</td>\n",
       "      <td>True</td>\n",
       "      <td>بیشتر از ۸</td>\n",
       "      <td>جنوبی</td>\n",
       "      <td>9</td>\n",
       "      <td>9</td>\n",
       "      <td>1000000000</td>\n",
       "    </tr>\n",
       "    <tr>\n",
       "      <th>11772</th>\n",
       "      <td>87</td>\n",
       "      <td>1397</td>\n",
       "      <td>2</td>\n",
       "      <td>True</td>\n",
       "      <td>۴</td>\n",
       "      <td>شمالی</td>\n",
       "      <td>11</td>\n",
       "      <td>0</td>\n",
       "      <td>940000000</td>\n",
       "    </tr>\n",
       "  </tbody>\n",
       "</table>\n",
       "</div>"
      ],
      "text/plain": [
       "       متراژ  ساخت  اتاق  پارکینگ تعداد واحد در طبقه جهت ساختمان  طبقه واحد  \\\n",
       "3109      88  1400     2     True                  ۴       جنوبی          0   \n",
       "5760      87  1399     2     True                  ۴       شمالی          1   \n",
       "5875     100  1400     2     True                  ۲       جنوبی          4   \n",
       "6621      64  1398     1     True                  ۴       جنوبی          1   \n",
       "6671      82  1397     2    False                  ۲        غربی          4   \n",
       "7006      88  1399     2     True                  ۴       شمالی          2   \n",
       "7566     100  1400     2     True                  ۲        غربی          1   \n",
       "8541      80  1395     2    False                  ۴       جنوبی          8   \n",
       "9242      97  1399     2     True                  ۲       جنوبی          4   \n",
       "9519      87  1399     2     True                  ۴       شمالی          1   \n",
       "10939     87  1399     2     True                  ۴       جنوبی          6   \n",
       "10979     87  1399     2     True                  ۴       جنوبی         10   \n",
       "11357     87  1400     2    False                  ۴       جنوبی          5   \n",
       "11378     75  1395     2    False                  ۶       جنوبی          2   \n",
       "11578     75  1395     2     True         بیشتر از ۸       جنوبی          9   \n",
       "11772     87  1397     2     True                  ۴       شمالی         11   \n",
       "\n",
       "       کل طبقات     قیمت کل  \n",
       "3109         16   595200000  \n",
       "5760         14   660000000  \n",
       "5875          5   770000000  \n",
       "6621         14   770000000  \n",
       "6671          4   800000000  \n",
       "7006         14   750000000  \n",
       "7566          5   780000000  \n",
       "8541          9   900000000  \n",
       "9242          4   835000000  \n",
       "9519         14   830000000  \n",
       "10939        14   940000000  \n",
       "10979        14   950000000  \n",
       "11357        13   980000000  \n",
       "11378         9   980000000  \n",
       "11578         9  1000000000  \n",
       "11772         0   940000000  "
      ]
     },
     "execution_count": 114,
     "metadata": {},
     "output_type": "execute_result"
    }
   ],
   "source": [
    "g1 = df[df['ناحیه'] == 'پردیس']\n",
    "g2 = g1[g1['سند'] == 'تک‌برگ'].drop([\n",
    "    'جنس کف', 'تأمین‌کننده آب گرم', 'بالکن', 'ایرانی', 'فرنگی', 'آسانسور', 'ناحیه', 'سند',\n",
    "    'وضعیت واحد', 'گرمایش', 'انباری', 'سرمایش'\n",
    "],axis=1)\n",
    "g2"
   ]
  },
  {
   "cell_type": "code",
   "execution_count": 117,
   "id": "b07b395e",
   "metadata": {},
   "outputs": [
    {
     "data": {
      "text/plain": [
       "<AxesSubplot:xlabel='ساخت', ylabel='قیمت کل'>"
      ]
     },
     "execution_count": 117,
     "metadata": {},
     "output_type": "execute_result"
    },
    {
     "data": {
      "image/png": "[encoded data removed]",
      "text/plain": [
       "<Figure size 432x288 with 1 Axes>"
      ]
     },
     "metadata": {
      "needs_background": "light"
     },
     "output_type": "display_data"
    }
   ],
   "source": [
    "sns.scatterplot(data=g2, x='ساخت', y='قیمت کل', hue='جهت ساختمان', style='اتاق', palette=\"husl\", size='پارکینگ')"
   ]
  },
  {
   "cell_type": "code",
   "execution_count": null,
   "id": "cb5db36e",
   "metadata": {},
   "outputs": [],
   "source": []
  }
 ],
 "metadata": {
  "kernelspec": {
   "display_name": "Python 3 (ipykernel)",
   "language": "python",
   "name": "python3"
  },
  "language_info": {
   "codemirror_mode": {
    "name": "ipython",
    "version": 3
   },
   "file_extension": ".py",
   "mimetype": "text/x-python",
   "name": "python",
   "nbconvert_exporter": "python",
   "pygments_lexer": "ipython3",
   "version": "3.9.6"
  }
 },
 "nbformat": 4,
 "nbformat_minor": 5
}
