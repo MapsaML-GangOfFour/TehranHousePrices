{
 "cells": [
  {
   "cell_type": "code",
   "execution_count": 1,
   "id": "25041473",
   "metadata": {},
   "outputs": [],
   "source": [
    "import pandas as pd"
   ]
  },
  {
   "cell_type": "code",
   "execution_count": 2,
   "id": "622e4c46",
   "metadata": {
    "scrolled": true
   },
   "outputs": [],
   "source": [
    "df = pd.read_json('database-bil0-1.json')"
   ]
  },
  {
   "cell_type": "code",
   "execution_count": 3,
   "id": "90350a86",
   "metadata": {},
   "outputs": [],
   "source": [
    "df.drop(['آژانس املاک', 'آگهی‌دهنده', 'نوع ساختمان', 'تور مجازی ۳۶۰ درجه'], axis=1, inplace=True)"
   ]
  },
  {
   "cell_type": "code",
   "execution_count": 4,
   "id": "d70b9911",
   "metadata": {},
   "outputs": [],
   "source": [
    "#create goal DataFrame: df_detail\n",
    "\n",
    "df_detail = df[df['جزیئات']==True]\n",
    "df_detail.reset_index(inplace=True, drop=True)"
   ]
  },
  {
   "cell_type": "code",
   "execution_count": 5,
   "id": "68311169",
   "metadata": {},
   "outputs": [],
   "source": [
    "#utility\n",
    "\n",
    "utility_true_false = ['بالکن','ایرانی','فرنگی']\n",
    "utility_list = ['تأمین\\u200cکننده آب گرم','جنس کف','سرمایش','گرمایش']"
   ]
  },
  {
   "cell_type": "code",
   "execution_count": 6,
   "id": "05f3b8c6",
   "metadata": {},
   "outputs": [
    {
     "name": "stderr",
     "output_type": "stream",
     "text": [
      "C:\\Users\\mehrh\\AppData\\Local\\Programs\\Python\\Python38-32\\lib\\site-packages\\pandas\\core\\indexing.py:1684: SettingWithCopyWarning: \n",
      "A value is trying to be set on a copy of a slice from a DataFrame.\n",
      "Try using .loc[row_indexer,col_indexer] = value instead\n",
      "\n",
      "See the caveats in the documentation: https://pandas.pydata.org/pandas-docs/stable/user_guide/indexing.html#returning-a-view-versus-a-copy\n",
      "  self.obj[key] = infer_fill_value(value)\n",
      "C:\\Users\\mehrh\\AppData\\Local\\Programs\\Python\\Python38-32\\lib\\site-packages\\pandas\\core\\indexing.py:1817: SettingWithCopyWarning: \n",
      "A value is trying to be set on a copy of a slice from a DataFrame.\n",
      "Try using .loc[row_indexer,col_indexer] = value instead\n",
      "\n",
      "See the caveats in the documentation: https://pandas.pydata.org/pandas-docs/stable/user_guide/indexing.html#returning-a-view-versus-a-copy\n",
      "  self._setitem_single_column(loc, value, pi)\n"
     ]
    }
   ],
   "source": [
    "def utility_extract(df, utility_list, utility_true_false):\n",
    "    for i in range (df.shape[0]):\n",
    "        if df.iloc[i, 12]:\n",
    "            for line in df.iloc[i, 15]:\n",
    "                for obj in utility_list:\n",
    "                    if obj in line:\n",
    "                        df.loc[i, obj] = line.replace(obj, '').strip()       \n",
    "                for obj in utility_true_false:\n",
    "                    df.loc[i, obj] = False if 'ندارد' in line else True\n",
    "\n",
    "utility_extract(df_detail, utility_list, utility_true_false)"
   ]
  },
  {
   "cell_type": "code",
   "execution_count": 7,
   "id": "fcf82cb3",
   "metadata": {},
   "outputs": [
    {
     "name": "stderr",
     "output_type": "stream",
     "text": [
      "C:\\Users\\mehrh\\AppData\\Local\\Temp/ipykernel_8676/1773767381.py:7: SettingWithCopyWarning: \n",
      "A value is trying to be set on a copy of a slice from a DataFrame.\n",
      "Try using .loc[row_indexer,col_indexer] = value instead\n",
      "\n",
      "See the caveats in the documentation: https://pandas.pydata.org/pandas-docs/stable/user_guide/indexing.html#returning-a-view-versus-a-copy\n",
      "  df_detail['ساخت'] = df_detail.agg({'ساخت':year2num})\n"
     ]
    }
   ],
   "source": [
    "def year2num(txt:str):\n",
    "    if txt.isnumeric():\n",
    "        return int(txt)\n",
    "    else:\n",
    "        return 1370\n",
    "\n",
    "df_detail['ساخت'] = df_detail.agg({'ساخت':year2num})"
   ]
  },
  {
   "cell_type": "code",
   "execution_count": 8,
   "id": "c2c7b15c",
   "metadata": {},
   "outputs": [
    {
     "name": "stderr",
     "output_type": "stream",
     "text": [
      "C:\\Users\\mehrh\\AppData\\Local\\Temp/ipykernel_8676/2769779421.py:10: SettingWithCopyWarning: \n",
      "A value is trying to be set on a copy of a slice from a DataFrame.\n",
      "Try using .loc[row_indexer,col_indexer] = value instead\n",
      "\n",
      "See the caveats in the documentation: https://pandas.pydata.org/pandas-docs/stable/user_guide/indexing.html#returning-a-view-versus-a-copy\n",
      "  df_detail['اتاق'] = df_detail.agg({'اتاق':room2num})\n"
     ]
    }
   ],
   "source": [
    "def room2num(txt:str):\n",
    "    if txt.isnumeric():\n",
    "        return int(txt)\n",
    "    else:\n",
    "        if len(txt.split())==2:\n",
    "            return 0\n",
    "        else:\n",
    "            return int(txt[1])\n",
    "\n",
    "df_detail['اتاق'] = df_detail.agg({'اتاق':room2num})"
   ]
  },
  {
   "cell_type": "code",
   "execution_count": 9,
   "id": "0f2c3fef",
   "metadata": {},
   "outputs": [
    {
     "name": "stderr",
     "output_type": "stream",
     "text": [
      "C:\\Users\\mehrh\\AppData\\Local\\Temp/ipykernel_8676/1875224094.py:12: SettingWithCopyWarning: \n",
      "A value is trying to be set on a copy of a slice from a DataFrame.\n",
      "Try using .loc[row_indexer,col_indexer] = value instead\n",
      "\n",
      "See the caveats in the documentation: https://pandas.pydata.org/pandas-docs/stable/user_guide/indexing.html#returning-a-view-versus-a-copy\n",
      "  df_detail['طبقه واحد'] = df_detail['طبقه'].apply(lambda x: choose_floor(x))\n"
     ]
    }
   ],
   "source": [
    "def choose_floor(txt):\n",
    "    split = txt.split(' از ')[0]\n",
    "    if split.isnumeric():\n",
    "        split = int(split)\n",
    "    else:\n",
    "        split = {'زیرهمکف':-1,\n",
    "                 'همکف':0,\n",
    "                 '+۳۰':31,\n",
    "                 '۳۰+':31}[split]\n",
    "    return split\n",
    "\n",
    "df_detail['طبقه واحد'] = df_detail['طبقه'].apply(lambda x: choose_floor(x))"
   ]
  },
  {
   "cell_type": "code",
   "execution_count": 10,
   "id": "ea0e31bb",
   "metadata": {},
   "outputs": [
    {
     "name": "stderr",
     "output_type": "stream",
     "text": [
      "C:\\Users\\mehrh\\AppData\\Local\\Temp/ipykernel_8676/1249932701.py:3: SettingWithCopyWarning: \n",
      "A value is trying to be set on a copy of a slice from a DataFrame.\n",
      "Try using .loc[row_indexer,col_indexer] = value instead\n",
      "\n",
      "See the caveats in the documentation: https://pandas.pydata.org/pandas-docs/stable/user_guide/indexing.html#returning-a-view-versus-a-copy\n",
      "  df_detail['متراژ'] = df_detail['متراژ'].astype('int')\n",
      "C:\\Users\\mehrh\\AppData\\Local\\Temp/ipykernel_8676/1249932701.py:4: SettingWithCopyWarning: \n",
      "A value is trying to be set on a copy of a slice from a DataFrame.\n",
      "Try using .loc[row_indexer,col_indexer] = value instead\n",
      "\n",
      "See the caveats in the documentation: https://pandas.pydata.org/pandas-docs/stable/user_guide/indexing.html#returning-a-view-versus-a-copy\n",
      "  df_detail['ناحیه'] = df_detail['ناحیه'].astype('category')\n",
      "C:\\Users\\mehrh\\AppData\\Local\\Temp/ipykernel_8676/1249932701.py:9: SettingWithCopyWarning: \n",
      "A value is trying to be set on a copy of a slice from a DataFrame.\n",
      "Try using .loc[row_indexer,col_indexer] = value instead\n",
      "\n",
      "See the caveats in the documentation: https://pandas.pydata.org/pandas-docs/stable/user_guide/indexing.html#returning-a-view-versus-a-copy\n",
      "  df_detail[col] = df_detail[col].astype('category')\n",
      "C:\\Users\\mehrh\\AppData\\Local\\Temp/ipykernel_8676/1249932701.py:13: SettingWithCopyWarning: \n",
      "A value is trying to be set on a copy of a slice from a DataFrame.\n",
      "Try using .loc[row_indexer,col_indexer] = value instead\n",
      "\n",
      "See the caveats in the documentation: https://pandas.pydata.org/pandas-docs/stable/user_guide/indexing.html#returning-a-view-versus-a-copy\n",
      "  df_detail[obj] = df_detail[obj].astype('bool')\n",
      "C:\\Users\\mehrh\\AppData\\Local\\Temp/ipykernel_8676/1249932701.py:16: SettingWithCopyWarning: \n",
      "A value is trying to be set on a copy of a slice from a DataFrame.\n",
      "Try using .loc[row_indexer,col_indexer] = value instead\n",
      "\n",
      "See the caveats in the documentation: https://pandas.pydata.org/pandas-docs/stable/user_guide/indexing.html#returning-a-view-versus-a-copy\n",
      "  df_detail[col] =  df_detail[col].str.replace('٫', '').str.replace('تومان', '').dropna().astype('int64')\n"
     ]
    }
   ],
   "source": [
    "#Change dtypes\n",
    "\n",
    "df_detail['متراژ'] = df_detail['متراژ'].astype('int')\n",
    "df_detail['ناحیه'] = df_detail['ناحیه'].astype('category')\n",
    "\n",
    "be_category=['سند','وضعیت واحد','جهت ساختمان','ناحیه','تعداد واحد در طبقه','گرمایش','سرمایش','جنس کف','تأمین‌کننده آب گرم',]\n",
    "for col in be_category:\n",
    "    if df_detail[col].dtype == 'O':\n",
    "        df_detail[col] = df_detail[col].astype('category')\n",
    "        \n",
    "True_false_columns = ['بالکن','ایرانی','فرنگی','آسانسور','پارکینگ','انباری',]\n",
    "for obj in True_false_columns:\n",
    "    df_detail[obj] = df_detail[obj].astype('bool')\n",
    "\n",
    "for col in ['قیمت کل', 'قیمت هر متر']:\n",
    "    df_detail[col] =  df_detail[col].str.replace('٫', '').str.replace('تومان', '').dropna().astype('int64')\n",
    "for col in ['قیمت کل', 'قیمت هر متر']:\n",
    "    df[col] =  df[col].str.replace('٫', '').str.replace('تومان', '').dropna().astype('int64')"
   ]
  },
  {
   "cell_type": "code",
   "execution_count": 11,
   "id": "99efbf3b",
   "metadata": {},
   "outputs": [
    {
     "name": "stderr",
     "output_type": "stream",
     "text": [
      "C:\\Users\\mehrh\\AppData\\Local\\Programs\\Python\\Python38-32\\lib\\site-packages\\pandas\\core\\frame.py:4901: SettingWithCopyWarning: \n",
      "A value is trying to be set on a copy of a slice from a DataFrame\n",
      "\n",
      "See the caveats in the documentation: https://pandas.pydata.org/pandas-docs/stable/user_guide/indexing.html#returning-a-view-versus-a-copy\n",
      "  return super().drop(\n",
      "C:\\Users\\mehrh\\AppData\\Local\\Programs\\Python\\Python38-32\\lib\\site-packages\\pandas\\util\\_decorators.py:311: SettingWithCopyWarning: \n",
      "A value is trying to be set on a copy of a slice from a DataFrame\n",
      "\n",
      "See the caveats in the documentation: https://pandas.pydata.org/pandas-docs/stable/user_guide/indexing.html#returning-a-view-versus-a-copy\n",
      "  return func(*args, **kwargs)\n"
     ]
    }
   ],
   "source": [
    "#Drop and Create the final DataFrame\n",
    "\n",
    "df_detail.drop(['امکانات', 'جزیئات'], inplace=True, axis=1)\n",
    "df_detail.drop_duplicates(subset='token', inplace=True)\n",
    "# df_detail.dropna(inplace=True)"
   ]
  },
  {
   "cell_type": "code",
   "execution_count": 12,
   "id": "1225710c",
   "metadata": {},
   "outputs": [],
   "source": [
    "#Matrices\n",
    "\n",
    "MAT_X = df_detail.drop(['طبقه', 'token', 'متن توضیحات','قیمت کل', 'قیمت هر متر'], axis=1)\n",
    "VEC_Y = df_detail['قیمت کل']\n",
    "VEC_Y2 = df_detail['قیمت هر متر']"
   ]
  },
  {
   "cell_type": "code",
   "execution_count": 13,
   "id": "79ac56f4",
   "metadata": {},
   "outputs": [],
   "source": [
    "#To pickle\n",
    "\n",
    "MAT_X.to_pickle('mat_x.pkl')\n",
    "VEC_Y.to_pickle('vec_y.pkl')\n",
    "VEC_Y2.to_pickle('vec_y2.pkl')"
   ]
  },
  {
   "cell_type": "code",
   "execution_count": 14,
   "id": "e97f637d",
   "metadata": {},
   "outputs": [],
   "source": [
    "# test = pd.read_pickle('mat_x.pkl')"
   ]
  },
  {
   "cell_type": "code",
   "execution_count": null,
   "id": "c7f55fb6",
   "metadata": {},
   "outputs": [],
   "source": []
  }
 ],
 "metadata": {
  "kernelspec": {
   "display_name": "Python 3 (ipykernel)",
   "language": "python",
   "name": "python3"
  },
  "language_info": {
   "codemirror_mode": {
    "name": "ipython",
    "version": 3
   },
   "file_extension": ".py",
   "mimetype": "text/x-python",
   "name": "python",
   "nbconvert_exporter": "python",
   "pygments_lexer": "ipython3",
   "version": "3.8.5"
  }
 },
 "nbformat": 4,
 "nbformat_minor": 5
}
