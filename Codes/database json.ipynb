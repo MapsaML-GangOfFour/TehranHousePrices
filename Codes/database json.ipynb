{
 "cells": [
  {
   "cell_type": "code",
   "execution_count": 1,
   "id": "a734a1f6",
   "metadata": {},
   "outputs": [],
   "source": [
    "import pandas as pd"
   ]
  },
  {
   "cell_type": "code",
   "execution_count": 194,
   "id": "f8c86c20",
   "metadata": {},
   "outputs": [],
   "source": [
    "#with open('./database - Copy.json', 'a', encoding='utf-8') as f: #بستن فایل های json ناقص\n",
    "#    f.write(']')"
   ]
  },
  {
   "cell_type": "code",
   "execution_count": 18,
   "id": "dd0fb1dc",
   "metadata": {},
   "outputs": [],
   "source": [
    "df = pd.read_json('./database - 1bil.json')"
   ]
  },
  {
   "cell_type": "code",
   "execution_count": 7,
   "id": "dddf7157",
   "metadata": {},
   "outputs": [
    {
     "data": {
      "text/plain": [
       "(25426, 22)"
      ]
     },
     "execution_count": 7,
     "metadata": {},
     "output_type": "execute_result"
    }
   ],
   "source": [
    "df.shape"
   ]
  },
  {
   "cell_type": "code",
   "execution_count": 6,
   "id": "94f0cb10",
   "metadata": {},
   "outputs": [
    {
     "data": {
      "text/plain": [
       "25418"
      ]
     },
     "execution_count": 6,
     "metadata": {},
     "output_type": "execute_result"
    }
   ],
   "source": [
    "df['token'].nunique()"
   ]
  },
  {
   "cell_type": "code",
   "execution_count": 9,
   "id": "697f089b",
   "metadata": {},
   "outputs": [
    {
     "data": {
      "text/plain": [
       "8"
      ]
     },
     "execution_count": 9,
     "metadata": {},
     "output_type": "execute_result"
    }
   ],
   "source": [
    "sum(df['token'].value_counts() > 1 )"
   ]
  },
  {
   "cell_type": "code",
   "execution_count": 10,
   "id": "bbc27011",
   "metadata": {},
   "outputs": [
    {
     "data": {
      "text/plain": [
       "272"
      ]
     },
     "execution_count": 10,
     "metadata": {},
     "output_type": "execute_result"
    }
   ],
   "source": [
    "df['ناحیه'].nunique()"
   ]
  },
  {
   "cell_type": "code",
   "execution_count": 11,
   "id": "22135a02",
   "metadata": {},
   "outputs": [
    {
     "data": {
      "text/plain": [
       "اندیشه        4425\n",
       "پردیس         3477\n",
       "پرند          2860\n",
       "جیحون          984\n",
       "پاکدشت         854\n",
       "              ... \n",
       "ائمه اطهار       1\n",
       "قیطریه           1\n",
       "شهرک دریا        1\n",
       "گاندی            1\n",
       "فشم              1\n",
       "Name: ناحیه, Length: 272, dtype: int64"
      ]
     },
     "execution_count": 11,
     "metadata": {},
     "output_type": "execute_result"
    }
   ],
   "source": [
    "dis = df['ناحیه'].value_counts()\n",
    "dis"
   ]
  },
  {
   "cell_type": "code",
   "execution_count": 14,
   "id": "9ea91447",
   "metadata": {},
   "outputs": [
    {
     "data": {
      "text/plain": [
       "ناحیه                  object\n",
       "نوع ساختمان            object\n",
       "متن توضیحات            object\n",
       "token                  object\n",
       "متراژ                  object\n",
       "ساخت                   object\n",
       "اتاق                   object\n",
       "قیمت کل                object\n",
       "قیمت هر متر            object\n",
       "آگهی‌دهنده             object\n",
       "طبقه                   object\n",
       "آسانسور               float64\n",
       "پارکینگ                object\n",
       "انباری                float64\n",
       "جزیئات                   bool\n",
       "آژانس املاک            object\n",
       "تعداد واحد در طبقه     object\n",
       "سند                    object\n",
       "امکانات                object\n",
       "جهت ساختمان            object\n",
       "وضعیت واحد             object\n",
       "تور مجازی ۳۶۰ درجه     object\n",
       "dtype: object"
      ]
     },
     "execution_count": 14,
     "metadata": {},
     "output_type": "execute_result"
    }
   ],
   "source": [
    "df.dtypes"
   ]
  },
  {
   "cell_type": "code",
   "execution_count": 41,
   "id": "8b7cbd60",
   "metadata": {},
   "outputs": [
    {
     "data": {
      "text/html": [
       "<div>\n",
       "<style scoped>\n",
       "    .dataframe tbody tr th:only-of-type {\n",
       "        vertical-align: middle;\n",
       "    }\n",
       "\n",
       "    .dataframe tbody tr th {\n",
       "        vertical-align: top;\n",
       "    }\n",
       "\n",
       "    .dataframe thead th {\n",
       "        text-align: right;\n",
       "    }\n",
       "</style>\n",
       "<table border=\"1\" class=\"dataframe\">\n",
       "  <thead>\n",
       "    <tr style=\"text-align: right;\">\n",
       "      <th></th>\n",
       "      <th>ناحیه</th>\n",
       "      <th>متن توضیحات</th>\n",
       "      <th>token</th>\n",
       "      <th>متراژ</th>\n",
       "      <th>ساخت</th>\n",
       "      <th>اتاق</th>\n",
       "      <th>قیمت کل</th>\n",
       "      <th>قیمت هر متر</th>\n",
       "      <th>طبقه</th>\n",
       "      <th>آسانسور</th>\n",
       "      <th>پارکینگ</th>\n",
       "      <th>انباری</th>\n",
       "      <th>جزیئات</th>\n",
       "      <th>تعداد واحد در طبقه</th>\n",
       "      <th>سند</th>\n",
       "      <th>امکانات</th>\n",
       "      <th>جهت ساختمان</th>\n",
       "      <th>وضعیت واحد</th>\n",
       "    </tr>\n",
       "  </thead>\n",
       "  <tbody>\n",
       "    <tr>\n",
       "      <th>0</th>\n",
       "      <td>دریاچه شهدای خلیج فارس</td>\n",
       "      <td>17 سال خدمت .قرارداد امضا شده.</td>\n",
       "      <td>QYAlLZs1</td>\n",
       "      <td>۲۰</td>\n",
       "      <td>۱۴۰۰</td>\n",
       "      <td>0</td>\n",
       "      <td>۱۸۰٫۰۰۰٫۰۰۰ تومان</td>\n",
       "      <td>۹٫۰۰۰٫۰۰۰ تومان</td>\n",
       "      <td>۳۰</td>\n",
       "      <td>1.0</td>\n",
       "      <td>True</td>\n",
       "      <td>1.0</td>\n",
       "      <td>False</td>\n",
       "      <td>NaN</td>\n",
       "      <td>NaN</td>\n",
       "      <td>NaN</td>\n",
       "      <td>NaN</td>\n",
       "      <td>NaN</td>\n",
       "    </tr>\n",
       "    <tr>\n",
       "      <th>1</th>\n",
       "      <td>چیتگر</td>\n",
       "      <td>۲۵سال \\nواریزی ۹۹\\nاملاک محترم تماس نگیرد</td>\n",
       "      <td>QYABJPpy</td>\n",
       "      <td>۲۰</td>\n",
       "      <td>۱۴۰۰</td>\n",
       "      <td>0</td>\n",
       "      <td>۱۸۰٫۰۰۰٫۰۰۰ تومان</td>\n",
       "      <td>۹٫۰۰۰٫۰۰۰ تومان</td>\n",
       "      <td>۹</td>\n",
       "      <td>1.0</td>\n",
       "      <td>True</td>\n",
       "      <td>1.0</td>\n",
       "      <td>False</td>\n",
       "      <td>NaN</td>\n",
       "      <td>NaN</td>\n",
       "      <td>NaN</td>\n",
       "      <td>NaN</td>\n",
       "      <td>NaN</td>\n",
       "    </tr>\n",
       "    <tr>\n",
       "      <th>2</th>\n",
       "      <td>ورامین</td>\n",
       "      <td>سند تک برگ اعیان، انشعابات همه قابل استفاده. د...</td>\n",
       "      <td>QYA5G7eQ</td>\n",
       "      <td>۵۴</td>\n",
       "      <td>۱۳۹۱</td>\n",
       "      <td>۱</td>\n",
       "      <td>۲۰۰٫۰۰۰٫۰۰۰ تومان</td>\n",
       "      <td>۳٫۷۰۴٫۰۰۰ تومان</td>\n",
       "      <td>۱ از ۳</td>\n",
       "      <td>0.0</td>\n",
       "      <td>False</td>\n",
       "      <td>1.0</td>\n",
       "      <td>True</td>\n",
       "      <td>۲</td>\n",
       "      <td>تک‌برگ</td>\n",
       "      <td>[آسانسور ندارد, پارکینگ ندارد, انباری, سرویس ب...</td>\n",
       "      <td>NaN</td>\n",
       "      <td>NaN</td>\n",
       "    </tr>\n",
       "    <tr>\n",
       "      <th>3</th>\n",
       "      <td>پردیس</td>\n",
       "      <td>یک واحد اپارتمان با پارکینگ و انباری مسقف \\nام...</td>\n",
       "      <td>QYAljBlw</td>\n",
       "      <td>۱۰۰</td>\n",
       "      <td>۱۴۰۰</td>\n",
       "      <td>۲</td>\n",
       "      <td>۲۰۰٫۰۰۰٫۰۰۰ تومان</td>\n",
       "      <td>۲٫۰۰۰٫۰۰۰ تومان</td>\n",
       "      <td>۲</td>\n",
       "      <td>1.0</td>\n",
       "      <td>True</td>\n",
       "      <td>1.0</td>\n",
       "      <td>False</td>\n",
       "      <td>NaN</td>\n",
       "      <td>NaN</td>\n",
       "      <td>NaN</td>\n",
       "      <td>NaN</td>\n",
       "      <td>NaN</td>\n",
       "    </tr>\n",
       "    <tr>\n",
       "      <th>4</th>\n",
       "      <td>پردیس</td>\n",
       "      <td>بهترین سرمایه گذاری در پردیس \\nباکمترین هزینه ...</td>\n",
       "      <td>QYm0jW90</td>\n",
       "      <td>۱۰۰</td>\n",
       "      <td>۱۳۹۹</td>\n",
       "      <td>۲</td>\n",
       "      <td>۲۰۰٫۰۰۰٫۰۰۰ تومان</td>\n",
       "      <td>۲٫۰۰۰٫۰۰۰ تومان</td>\n",
       "      <td>۲</td>\n",
       "      <td>1.0</td>\n",
       "      <td>True</td>\n",
       "      <td>1.0</td>\n",
       "      <td>False</td>\n",
       "      <td>NaN</td>\n",
       "      <td>NaN</td>\n",
       "      <td>NaN</td>\n",
       "      <td>NaN</td>\n",
       "      <td>NaN</td>\n",
       "    </tr>\n",
       "  </tbody>\n",
       "</table>\n",
       "</div>"
      ],
      "text/plain": [
       "                    ناحیه                                        متن توضیحات  \\\n",
       "0  دریاچه شهدای خلیج فارس                     17 سال خدمت .قرارداد امضا شده.   \n",
       "1                   چیتگر          ۲۵سال \\nواریزی ۹۹\\nاملاک محترم تماس نگیرد   \n",
       "2                  ورامین  سند تک برگ اعیان، انشعابات همه قابل استفاده. د...   \n",
       "3                   پردیس  یک واحد اپارتمان با پارکینگ و انباری مسقف \\nام...   \n",
       "4                   پردیس  بهترین سرمایه گذاری در پردیس \\nباکمترین هزینه ...   \n",
       "\n",
       "      token متراژ  ساخت اتاق            قیمت کل      قیمت هر متر    طبقه  \\\n",
       "0  QYAlLZs1    ۲۰  ۱۴۰۰    0  ۱۸۰٫۰۰۰٫۰۰۰ تومان  ۹٫۰۰۰٫۰۰۰ تومان      ۳۰   \n",
       "1  QYABJPpy    ۲۰  ۱۴۰۰    0  ۱۸۰٫۰۰۰٫۰۰۰ تومان  ۹٫۰۰۰٫۰۰۰ تومان       ۹   \n",
       "2  QYA5G7eQ    ۵۴  ۱۳۹۱    ۱  ۲۰۰٫۰۰۰٫۰۰۰ تومان  ۳٫۷۰۴٫۰۰۰ تومان  ۱ از ۳   \n",
       "3  QYAljBlw   ۱۰۰  ۱۴۰۰    ۲  ۲۰۰٫۰۰۰٫۰۰۰ تومان  ۲٫۰۰۰٫۰۰۰ تومان       ۲   \n",
       "4  QYm0jW90   ۱۰۰  ۱۳۹۹    ۲  ۲۰۰٫۰۰۰٫۰۰۰ تومان  ۲٫۰۰۰٫۰۰۰ تومان       ۲   \n",
       "\n",
       "   آسانسور پارکینگ  انباری  جزیئات تعداد واحد در طبقه     سند  \\\n",
       "0      1.0    True     1.0   False                NaN     NaN   \n",
       "1      1.0    True     1.0   False                NaN     NaN   \n",
       "2      0.0   False     1.0    True                  ۲  تک‌برگ   \n",
       "3      1.0    True     1.0   False                NaN     NaN   \n",
       "4      1.0    True     1.0   False                NaN     NaN   \n",
       "\n",
       "                                             امکانات جهت ساختمان وضعیت واحد  \n",
       "0                                                NaN         NaN        NaN  \n",
       "1                                                NaN         NaN        NaN  \n",
       "2  [آسانسور ندارد, پارکینگ ندارد, انباری, سرویس ب...         NaN        NaN  \n",
       "3                                                NaN         NaN        NaN  \n",
       "4                                                NaN         NaN        NaN  "
      ]
     },
     "execution_count": 41,
     "metadata": {},
     "output_type": "execute_result"
    }
   ],
   "source": [
    "df.head()"
   ]
  },
  {
   "cell_type": "code",
   "execution_count": 20,
   "id": "0890fb26",
   "metadata": {},
   "outputs": [],
   "source": [
    "df.loc[df['اتاق'] == 'بدون اتاق', 'اتاق'] = '0'"
   ]
  },
  {
   "cell_type": "code",
   "execution_count": 22,
   "id": "adc513cb",
   "metadata": {},
   "outputs": [],
   "source": [
    "df.drop(['آژانس املاک', 'آگهی‌دهنده', 'نوع ساختمان', 'تور مجازی ۳۶۰ درجه'], axis=1, inplace=True)"
   ]
  },
  {
   "cell_type": "code",
   "execution_count": 26,
   "id": "884f2760",
   "metadata": {},
   "outputs": [],
   "source": [
    "df_detail = df[df['جزیئات']==True]\n",
    "df_detail.reset_index(inplace=True, drop=True)"
   ]
  },
  {
   "cell_type": "code",
   "execution_count": 31,
   "id": "e3d6147f",
   "metadata": {},
   "outputs": [
    {
     "data": {
      "text/html": [
       "<div>\n",
       "<style scoped>\n",
       "    .dataframe tbody tr th:only-of-type {\n",
       "        vertical-align: middle;\n",
       "    }\n",
       "\n",
       "    .dataframe tbody tr th {\n",
       "        vertical-align: top;\n",
       "    }\n",
       "\n",
       "    .dataframe thead th {\n",
       "        text-align: right;\n",
       "    }\n",
       "</style>\n",
       "<table border=\"1\" class=\"dataframe\">\n",
       "  <thead>\n",
       "    <tr style=\"text-align: right;\">\n",
       "      <th></th>\n",
       "      <th>ناحیه</th>\n",
       "      <th>متن توضیحات</th>\n",
       "      <th>token</th>\n",
       "      <th>متراژ</th>\n",
       "      <th>ساخت</th>\n",
       "      <th>اتاق</th>\n",
       "      <th>قیمت کل</th>\n",
       "      <th>قیمت هر متر</th>\n",
       "      <th>طبقه</th>\n",
       "      <th>آسانسور</th>\n",
       "      <th>پارکینگ</th>\n",
       "      <th>انباری</th>\n",
       "      <th>جزیئات</th>\n",
       "      <th>تعداد واحد در طبقه</th>\n",
       "      <th>سند</th>\n",
       "      <th>امکانات</th>\n",
       "      <th>جهت ساختمان</th>\n",
       "      <th>وضعیت واحد</th>\n",
       "    </tr>\n",
       "  </thead>\n",
       "  <tbody>\n",
       "    <tr>\n",
       "      <th>0</th>\n",
       "      <td>ورامین</td>\n",
       "      <td>سند تک برگ اعیان، انشعابات همه قابل استفاده. د...</td>\n",
       "      <td>QYA5G7eQ</td>\n",
       "      <td>۵۴</td>\n",
       "      <td>۱۳۹۱</td>\n",
       "      <td>۱</td>\n",
       "      <td>۲۰۰٫۰۰۰٫۰۰۰ تومان</td>\n",
       "      <td>۳٫۷۰۴٫۰۰۰ تومان</td>\n",
       "      <td>۱ از ۳</td>\n",
       "      <td>0.0</td>\n",
       "      <td>False</td>\n",
       "      <td>1.0</td>\n",
       "      <td>True</td>\n",
       "      <td>۲</td>\n",
       "      <td>تک‌برگ</td>\n",
       "      <td>[آسانسور ندارد, پارکینگ ندارد, انباری, سرویس ب...</td>\n",
       "      <td>NaN</td>\n",
       "      <td>NaN</td>\n",
       "    </tr>\n",
       "    <tr>\n",
       "      <th>1</th>\n",
       "      <td>قرچک</td>\n",
       "      <td>آپارتمان 52 متری یک خوابه نقاشی شده کف سرامیک ...</td>\n",
       "      <td>QY_M1IEA</td>\n",
       "      <td>۵۲</td>\n",
       "      <td>۱۳۸۴</td>\n",
       "      <td>۱</td>\n",
       "      <td>۲۰۰٫۰۰۰٫۰۰۰ تومان</td>\n",
       "      <td>۳٫۸۴۶٫۰۰۰ تومان</td>\n",
       "      <td>۲ از ۴</td>\n",
       "      <td>0.0</td>\n",
       "      <td>False</td>\n",
       "      <td>1.0</td>\n",
       "      <td>True</td>\n",
       "      <td>۴</td>\n",
       "      <td>تک‌برگ</td>\n",
       "      <td>[آسانسور ندارد, پارکینگ ندارد, انباری, بالکن, ...</td>\n",
       "      <td>شمالی</td>\n",
       "      <td>بازسازی شده</td>\n",
       "    </tr>\n",
       "    <tr>\n",
       "      <th>2</th>\n",
       "      <td>پردیس</td>\n",
       "      <td>یک واحد آپارتمان با پارکینگ انباری مسقف امکانا...</td>\n",
       "      <td>QY_sQfz7</td>\n",
       "      <td>۱۰۰</td>\n",
       "      <td>۱۴۰۰</td>\n",
       "      <td>۲</td>\n",
       "      <td>۲۰۰٫۰۰۰٫۰۰۰ تومان</td>\n",
       "      <td>۲٫۰۰۰٫۰۰۰ تومان</td>\n",
       "      <td>۴ از ۳</td>\n",
       "      <td>1.0</td>\n",
       "      <td>True</td>\n",
       "      <td>1.0</td>\n",
       "      <td>True</td>\n",
       "      <td>۵</td>\n",
       "      <td>سایر</td>\n",
       "      <td>[آسانسور, پارکینگ, انباری, بالکن, جنس کف سرامی...</td>\n",
       "      <td>جنوبی</td>\n",
       "      <td>NaN</td>\n",
       "    </tr>\n",
       "    <tr>\n",
       "      <th>3</th>\n",
       "      <td>پردیس</td>\n",
       "      <td>آپارتمان در شهر جدید پردیس با پارکینگ وانباری ...</td>\n",
       "      <td>QY_gghf-</td>\n",
       "      <td>۱۰۰</td>\n",
       "      <td>۱۳۹۹</td>\n",
       "      <td>۲</td>\n",
       "      <td>۲۰۰٫۰۰۰٫۰۰۰ تومان</td>\n",
       "      <td>۲٫۰۰۰٫۰۰۰ تومان</td>\n",
       "      <td>۵ از ۵</td>\n",
       "      <td>1.0</td>\n",
       "      <td>True</td>\n",
       "      <td>1.0</td>\n",
       "      <td>True</td>\n",
       "      <td>۴</td>\n",
       "      <td>NaN</td>\n",
       "      <td>[آسانسور, پارکینگ, انباری, بالکن]</td>\n",
       "      <td>NaN</td>\n",
       "      <td>NaN</td>\n",
       "    </tr>\n",
       "    <tr>\n",
       "      <th>4</th>\n",
       "      <td>شهر قدس</td>\n",
       "      <td>سوییت ۲۰ متری نوساز\\nکل ساختمان نوساز میباشد  ...</td>\n",
       "      <td>QYwA4VuE</td>\n",
       "      <td>۲۰</td>\n",
       "      <td>۱۳۹۹</td>\n",
       "      <td>0</td>\n",
       "      <td>۱۹۰٫۰۰۰٫۰۰۰ تومان</td>\n",
       "      <td>۹٫۵۰۰٫۰۰۰ تومان</td>\n",
       "      <td>۶ از ۶</td>\n",
       "      <td>1.0</td>\n",
       "      <td>False</td>\n",
       "      <td>0.0</td>\n",
       "      <td>True</td>\n",
       "      <td>۱</td>\n",
       "      <td>قول‌نامه‌ای</td>\n",
       "      <td>[آسانسور, پارکینگ ندارد, انباری ندارد, بالکن ن...</td>\n",
       "      <td>غربی</td>\n",
       "      <td>NaN</td>\n",
       "    </tr>\n",
       "  </tbody>\n",
       "</table>\n",
       "</div>"
      ],
      "text/plain": [
       "     ناحیه                                        متن توضیحات     token متراژ  \\\n",
       "0   ورامین  سند تک برگ اعیان، انشعابات همه قابل استفاده. د...  QYA5G7eQ    ۵۴   \n",
       "1     قرچک  آپارتمان 52 متری یک خوابه نقاشی شده کف سرامیک ...  QY_M1IEA    ۵۲   \n",
       "2    پردیس  یک واحد آپارتمان با پارکینگ انباری مسقف امکانا...  QY_sQfz7   ۱۰۰   \n",
       "3    پردیس  آپارتمان در شهر جدید پردیس با پارکینگ وانباری ...  QY_gghf-   ۱۰۰   \n",
       "4  شهر قدس  سوییت ۲۰ متری نوساز\\nکل ساختمان نوساز میباشد  ...  QYwA4VuE    ۲۰   \n",
       "\n",
       "   ساخت اتاق            قیمت کل      قیمت هر متر    طبقه  آسانسور پارکینگ  \\\n",
       "0  ۱۳۹۱    ۱  ۲۰۰٫۰۰۰٫۰۰۰ تومان  ۳٫۷۰۴٫۰۰۰ تومان  ۱ از ۳      0.0   False   \n",
       "1  ۱۳۸۴    ۱  ۲۰۰٫۰۰۰٫۰۰۰ تومان  ۳٫۸۴۶٫۰۰۰ تومان  ۲ از ۴      0.0   False   \n",
       "2  ۱۴۰۰    ۲  ۲۰۰٫۰۰۰٫۰۰۰ تومان  ۲٫۰۰۰٫۰۰۰ تومان  ۴ از ۳      1.0    True   \n",
       "3  ۱۳۹۹    ۲  ۲۰۰٫۰۰۰٫۰۰۰ تومان  ۲٫۰۰۰٫۰۰۰ تومان  ۵ از ۵      1.0    True   \n",
       "4  ۱۳۹۹    0  ۱۹۰٫۰۰۰٫۰۰۰ تومان  ۹٫۵۰۰٫۰۰۰ تومان  ۶ از ۶      1.0   False   \n",
       "\n",
       "   انباری  جزیئات تعداد واحد در طبقه          سند  \\\n",
       "0     1.0    True                  ۲       تک‌برگ   \n",
       "1     1.0    True                  ۴       تک‌برگ   \n",
       "2     1.0    True                  ۵         سایر   \n",
       "3     1.0    True                  ۴          NaN   \n",
       "4     0.0    True                  ۱  قول‌نامه‌ای   \n",
       "\n",
       "                                             امکانات جهت ساختمان   وضعیت واحد  \n",
       "0  [آسانسور ندارد, پارکینگ ندارد, انباری, سرویس ب...         NaN          NaN  \n",
       "1  [آسانسور ندارد, پارکینگ ندارد, انباری, بالکن, ...       شمالی  بازسازی شده  \n",
       "2  [آسانسور, پارکینگ, انباری, بالکن, جنس کف سرامی...       جنوبی          NaN  \n",
       "3                  [آسانسور, پارکینگ, انباری, بالکن]         NaN          NaN  \n",
       "4  [آسانسور, پارکینگ ندارد, انباری ندارد, بالکن ن...        غربی          NaN  "
      ]
     },
     "execution_count": 31,
     "metadata": {},
     "output_type": "execute_result"
    }
   ],
   "source": [
    "df_detail.head()"
   ]
  },
  {
   "cell_type": "code",
   "execution_count": 28,
   "id": "d09adeb4",
   "metadata": {},
   "outputs": [
    {
     "data": {
      "text/plain": [
       "['آسانسور ندارد',\n",
       " 'پارکینگ ندارد',\n",
       " 'انباری',\n",
       " 'سرویس بهداشتی ایرانی',\n",
       " 'سرمایش کولر آبی',\n",
       " 'گرمایش بخاری',\n",
       " 'تأمین\\u200cکننده آب گرم آبگرم\\u200cکن']"
      ]
     },
     "execution_count": 28,
     "metadata": {},
     "output_type": "execute_result"
    }
   ],
   "source": [
    "df_detail.loc[0, 'امکانات']"
   ]
  },
  {
   "cell_type": "code",
   "execution_count": 40,
   "id": "1fc103a4",
   "metadata": {
    "scrolled": true
   },
   "outputs": [
    {
     "data": {
      "text/plain": [
       "{'آسانسور',\n",
       " 'آسانسور ندارد',\n",
       " 'انباری',\n",
       " 'انباری ندارد',\n",
       " 'بالکن',\n",
       " 'بالکن ندارد',\n",
       " 'تأمین\\u200cکننده آب گرم آبگرم\\u200cکن',\n",
       " 'تأمین\\u200cکننده آب گرم موتورخانه',\n",
       " 'تأمین\\u200cکننده آب گرم پکیج',\n",
       " 'جنس کف سرامیک',\n",
       " 'جنس کف سنگ',\n",
       " 'جنس کف موزائیک',\n",
       " 'جنس کف موکت',\n",
       " 'جنس کف پارکت لمینت',\n",
       " 'جنس کف پارکت چوب',\n",
       " 'جنس کف کف\\u200cپوش PVC',\n",
       " 'سرمایش اسپلیت',\n",
       " 'سرمایش داکت اسپلیت',\n",
       " 'سرمایش فن کوئل',\n",
       " 'سرمایش کولر آبی',\n",
       " 'سرمایش کولر گازی',\n",
       " 'سرویس بهداشتی ایرانی',\n",
       " 'سرویس بهداشتی ایرانی و فرنگی',\n",
       " 'سرویس بهداشتی فرنگی',\n",
       " 'پارکینگ',\n",
       " 'پارکینگ ندارد',\n",
       " 'گرمایش از کف',\n",
       " 'گرمایش اسپلیت',\n",
       " 'گرمایش بخاری',\n",
       " 'گرمایش داکت اسپلیت',\n",
       " 'گرمایش شوفاژ',\n",
       " 'گرمایش شومینه',\n",
       " 'گرمایش فن کوئل'}"
      ]
     },
     "execution_count": 40,
     "metadata": {},
     "output_type": "execute_result"
    }
   ],
   "source": [
    "utility_set = set()\n",
    "df_detail.agg({'امکانات': lambda x: utility_set.update(x) });\n",
    "utility_set"
   ]
  },
  {
   "cell_type": "code",
   "execution_count": 34,
   "id": "2e2e2cd7",
   "metadata": {},
   "outputs": [
    {
     "data": {
      "text/plain": [
       "33"
      ]
     },
     "execution_count": 34,
     "metadata": {},
     "output_type": "execute_result"
    }
   ],
   "source": [
    "len(utility_set)"
   ]
  },
  {
   "cell_type": "code",
   "execution_count": 45,
   "id": "8d992c95",
   "metadata": {},
   "outputs": [],
   "source": [
    "utility_true_false = ['بالکن',\n",
    "                      'ایرانی',\n",
    "                      'فرنگی',\n",
    "                     ]"
   ]
  },
  {
   "cell_type": "code",
   "execution_count": 46,
   "id": "459934b4",
   "metadata": {},
   "outputs": [],
   "source": [
    "utility_list = ['تأمین\\u200cکننده آب گرم',\n",
    "                'جنس کف',\n",
    "                'سرمایش',\n",
    "                'گرمایش'\n",
    "               ]"
   ]
  },
  {
   "cell_type": "code",
   "execution_count": 42,
   "id": "5b11680d",
   "metadata": {},
   "outputs": [],
   "source": [
    "def utility_extract(df, utility_list, utility_true_false):\n",
    "    for i in range (df.shape[0]):\n",
    "        if df.loc[i, 'جزیئات']:\n",
    "            for line in df.loc[i, 'امکانات']:\n",
    "                for obj in utility_list:\n",
    "                    if obj in line:\n",
    "                        df.loc[i, obj] = line.replace(obj, '').strip()       \n",
    "                for obj in utility_true_false:\n",
    "                    df.loc[i, obj] = False if 'ندارد' in line else True"
   ]
  },
  {
   "cell_type": "code",
   "execution_count": 47,
   "id": "93b40786",
   "metadata": {},
   "outputs": [
    {
     "name": "stderr",
     "output_type": "stream",
     "text": [
      "c:\\python\\python39\\lib\\site-packages\\pandas\\core\\indexing.py:1684: SettingWithCopyWarning: \n",
      "A value is trying to be set on a copy of a slice from a DataFrame.\n",
      "Try using .loc[row_indexer,col_indexer] = value instead\n",
      "\n",
      "See the caveats in the documentation: https://pandas.pydata.org/pandas-docs/stable/user_guide/indexing.html#returning-a-view-versus-a-copy\n",
      "  self.obj[key] = infer_fill_value(value)\n",
      "c:\\python\\python39\\lib\\site-packages\\pandas\\core\\indexing.py:1817: SettingWithCopyWarning: \n",
      "A value is trying to be set on a copy of a slice from a DataFrame.\n",
      "Try using .loc[row_indexer,col_indexer] = value instead\n",
      "\n",
      "See the caveats in the documentation: https://pandas.pydata.org/pandas-docs/stable/user_guide/indexing.html#returning-a-view-versus-a-copy\n",
      "  self._setitem_single_column(loc, value, pi)\n"
     ]
    }
   ],
   "source": [
    "utility_extract(df_detail, utility_list, utility_true_false)"
   ]
  },
  {
   "cell_type": "code",
   "execution_count": 60,
   "id": "e8ae83a4",
   "metadata": {},
   "outputs": [
    {
     "data": {
      "text/plain": [
       "Index(['ناحیه', 'متن توضیحات', 'token', 'متراژ', 'ساخت', 'اتاق', 'قیمت کل',\n",
       "       'قیمت هر متر', 'طبقه', 'آسانسور', 'پارکینگ', 'انباری', 'جزیئات',\n",
       "       'تعداد واحد در طبقه', 'سند', 'امکانات', 'جهت ساختمان', 'وضعیت واحد',\n",
       "       'بالکن', 'ایرانی', 'فرنگی', 'سرمایش', 'گرمایش', 'تأمین‌کننده آب گرم',\n",
       "       'جنس کف'],\n",
       "      dtype='object')"
      ]
     },
     "execution_count": 60,
     "metadata": {},
     "output_type": "execute_result"
    }
   ],
   "source": [
    "df_detail.columns"
   ]
  },
  {
   "cell_type": "code",
   "execution_count": 59,
   "id": "2640c618",
   "metadata": {},
   "outputs": [
    {
     "data": {
      "text/html": [
       "<div>\n",
       "<style scoped>\n",
       "    .dataframe tbody tr th:only-of-type {\n",
       "        vertical-align: middle;\n",
       "    }\n",
       "\n",
       "    .dataframe tbody tr th {\n",
       "        vertical-align: top;\n",
       "    }\n",
       "\n",
       "    .dataframe thead th {\n",
       "        text-align: right;\n",
       "    }\n",
       "</style>\n",
       "<table border=\"1\" class=\"dataframe\">\n",
       "  <thead>\n",
       "    <tr style=\"text-align: right;\">\n",
       "      <th></th>\n",
       "      <th>ناحیه</th>\n",
       "      <th>متن توضیحات</th>\n",
       "      <th>token</th>\n",
       "      <th>متراژ</th>\n",
       "      <th>ساخت</th>\n",
       "      <th>اتاق</th>\n",
       "      <th>قیمت کل</th>\n",
       "      <th>قیمت هر متر</th>\n",
       "      <th>طبقه</th>\n",
       "      <th>آسانسور</th>\n",
       "      <th>...</th>\n",
       "      <th>امکانات</th>\n",
       "      <th>جهت ساختمان</th>\n",
       "      <th>وضعیت واحد</th>\n",
       "      <th>بالکن</th>\n",
       "      <th>ایرانی</th>\n",
       "      <th>فرنگی</th>\n",
       "      <th>سرمایش</th>\n",
       "      <th>گرمایش</th>\n",
       "      <th>تأمین‌کننده آب گرم</th>\n",
       "      <th>جنس کف</th>\n",
       "    </tr>\n",
       "  </thead>\n",
       "  <tbody>\n",
       "    <tr>\n",
       "      <th>0</th>\n",
       "      <td>ورامین</td>\n",
       "      <td>سند تک برگ اعیان، انشعابات همه قابل استفاده. د...</td>\n",
       "      <td>QYA5G7eQ</td>\n",
       "      <td>۵۴</td>\n",
       "      <td>۱۳۹۱</td>\n",
       "      <td>۱</td>\n",
       "      <td>۲۰۰٫۰۰۰٫۰۰۰ تومان</td>\n",
       "      <td>۳٫۷۰۴٫۰۰۰ تومان</td>\n",
       "      <td>۱ از ۳</td>\n",
       "      <td>0.0</td>\n",
       "      <td>...</td>\n",
       "      <td>[آسانسور ندارد, پارکینگ ندارد, انباری, سرویس ب...</td>\n",
       "      <td>NaN</td>\n",
       "      <td>NaN</td>\n",
       "      <td>True</td>\n",
       "      <td>True</td>\n",
       "      <td>True</td>\n",
       "      <td>کولر آبی</td>\n",
       "      <td>بخاری</td>\n",
       "      <td>آبگرم‌کن</td>\n",
       "      <td>NaN</td>\n",
       "    </tr>\n",
       "  </tbody>\n",
       "</table>\n",
       "<p>1 rows × 25 columns</p>\n",
       "</div>"
      ],
      "text/plain": [
       "    ناحیه                                        متن توضیحات     token متراژ  \\\n",
       "0  ورامین  سند تک برگ اعیان، انشعابات همه قابل استفاده. د...  QYA5G7eQ    ۵۴   \n",
       "\n",
       "   ساخت اتاق            قیمت کل      قیمت هر متر    طبقه  آسانسور  ...  \\\n",
       "0  ۱۳۹۱    ۱  ۲۰۰٫۰۰۰٫۰۰۰ تومان  ۳٫۷۰۴٫۰۰۰ تومان  ۱ از ۳      0.0  ...   \n",
       "\n",
       "                                             امکانات  جهت ساختمان  وضعیت واحد  \\\n",
       "0  [آسانسور ندارد, پارکینگ ندارد, انباری, سرویس ب...          NaN         NaN   \n",
       "\n",
       "  بالکن ایرانی فرنگی    سرمایش گرمایش تأمین‌کننده آب گرم جنس کف  \n",
       "0  True   True  True  کولر آبی  بخاری            آبگرم‌کن    NaN  \n",
       "\n",
       "[1 rows x 25 columns]"
      ]
     },
     "execution_count": 59,
     "metadata": {},
     "output_type": "execute_result"
    }
   ],
   "source": [
    "df_detail.head(1)"
   ]
  },
  {
   "cell_type": "code",
   "execution_count": 61,
   "id": "8c92af51",
   "metadata": {},
   "outputs": [
    {
     "name": "stderr",
     "output_type": "stream",
     "text": [
      "c:\\python\\python39\\lib\\site-packages\\pandas\\core\\frame.py:4901: SettingWithCopyWarning: \n",
      "A value is trying to be set on a copy of a slice from a DataFrame\n",
      "\n",
      "See the caveats in the documentation: https://pandas.pydata.org/pandas-docs/stable/user_guide/indexing.html#returning-a-view-versus-a-copy\n",
      "  return super().drop(\n"
     ]
    }
   ],
   "source": [
    "df_detail.drop(['امکانات', 'جزیئات'], inplace=True, axis=1)"
   ]
  },
  {
   "cell_type": "code",
   "execution_count": 62,
   "id": "e26e9ccd",
   "metadata": {},
   "outputs": [
    {
     "data": {
      "text/plain": [
       "Index(['ناحیه', 'متن توضیحات', 'token', 'متراژ', 'ساخت', 'اتاق', 'قیمت کل',\n",
       "       'قیمت هر متر', 'طبقه', 'آسانسور', 'پارکینگ', 'انباری',\n",
       "       'تعداد واحد در طبقه', 'سند', 'جهت ساختمان', 'وضعیت واحد', 'بالکن',\n",
       "       'ایرانی', 'فرنگی', 'سرمایش', 'گرمایش', 'تأمین‌کننده آب گرم', 'جنس کف'],\n",
       "      dtype='object')"
      ]
     },
     "execution_count": 62,
     "metadata": {},
     "output_type": "execute_result"
    }
   ],
   "source": [
    "df_detail.columns"
   ]
  },
  {
   "cell_type": "code",
   "execution_count": 172,
   "id": "84812fc3",
   "metadata": {},
   "outputs": [
    {
     "data": {
      "text/plain": [
       "ناحیه                  category\n",
       "متن توضیحات              object\n",
       "token                    object\n",
       "متراژ                     int32\n",
       "ساخت                      int64\n",
       "اتاق                      int32\n",
       "قیمت کل                   int64\n",
       "قیمت هر متر               int64\n",
       "طبقه                     object\n",
       "آسانسور                    bool\n",
       "پارکینگ                    bool\n",
       "انباری                     bool\n",
       "تعداد واحد در طبقه     category\n",
       "سند                    category\n",
       "جهت ساختمان            category\n",
       "وضعیت واحد             category\n",
       "بالکن                      bool\n",
       "ایرانی                     bool\n",
       "فرنگی                      bool\n",
       "سرمایش                 category\n",
       "گرمایش                 category\n",
       "تأمین‌کننده آب گرم    category\n",
       "جنس کف                 category\n",
       "طبقه واحد                 int64\n",
       "کل طبقات                  int64\n",
       "dtype: object"
      ]
     },
     "execution_count": 172,
     "metadata": {},
     "output_type": "execute_result"
    }
   ],
   "source": [
    "df_detail.dtypes"
   ]
  },
  {
   "cell_type": "code",
   "execution_count": 109,
   "id": "4b50c331",
   "metadata": {},
   "outputs": [],
   "source": [
    "be_category=['سند',\n",
    "             'وضعیت واحد',\n",
    "             'جهت ساختمان',\n",
    "             'ناحیه',\n",
    "             'تعداد واحد در طبقه',\n",
    "             'گرمایش',\n",
    "             'سرمایش',\n",
    "             'جنس کف',\n",
    "             'تأمین‌کننده آب گرم',\n",
    "            ]"
   ]
  },
  {
   "cell_type": "code",
   "execution_count": 114,
   "id": "450ee94a",
   "metadata": {},
   "outputs": [
    {
     "name": "stderr",
     "output_type": "stream",
     "text": [
      "C:\\Users\\AMIREL~1\\AppData\\Local\\Temp/ipykernel_1424/2214753820.py:3: SettingWithCopyWarning: \n",
      "A value is trying to be set on a copy of a slice from a DataFrame.\n",
      "Try using .loc[row_indexer,col_indexer] = value instead\n",
      "\n",
      "See the caveats in the documentation: https://pandas.pydata.org/pandas-docs/stable/user_guide/indexing.html#returning-a-view-versus-a-copy\n",
      "  df_detail[col] = df_detail[col].astype('category')\n"
     ]
    }
   ],
   "source": [
    "for col in be_category:\n",
    "    if df_detail[col].dtype == 'O':\n",
    "        df_detail[col] = df_detail[col].astype('category')"
   ]
  },
  {
   "cell_type": "code",
   "execution_count": 117,
   "id": "4b6ee90b",
   "metadata": {},
   "outputs": [
    {
     "name": "stderr",
     "output_type": "stream",
     "text": [
      "C:\\Users\\AMIREL~1\\AppData\\Local\\Temp/ipykernel_1424/191283039.py:1: SettingWithCopyWarning: \n",
      "A value is trying to be set on a copy of a slice from a DataFrame.\n",
      "Try using .loc[row_indexer,col_indexer] = value instead\n",
      "\n",
      "See the caveats in the documentation: https://pandas.pydata.org/pandas-docs/stable/user_guide/indexing.html#returning-a-view-versus-a-copy\n",
      "  df_detail['اتاق'] = df_detail['اتاق'].astype('int')\n"
     ]
    }
   ],
   "source": [
    "df_detail['اتاق'] = df_detail['اتاق'].astype('int')"
   ]
  },
  {
   "cell_type": "code",
   "execution_count": 119,
   "id": "6ab9e81a",
   "metadata": {},
   "outputs": [
    {
     "name": "stderr",
     "output_type": "stream",
     "text": [
      "C:\\Users\\AMIREL~1\\AppData\\Local\\Temp/ipykernel_1424/3362237149.py:1: SettingWithCopyWarning: \n",
      "A value is trying to be set on a copy of a slice from a DataFrame.\n",
      "Try using .loc[row_indexer,col_indexer] = value instead\n",
      "\n",
      "See the caveats in the documentation: https://pandas.pydata.org/pandas-docs/stable/user_guide/indexing.html#returning-a-view-versus-a-copy\n",
      "  df_detail['متراژ'] = df_detail['متراژ'].astype('int')\n"
     ]
    }
   ],
   "source": [
    "df_detail['متراژ'] = df_detail['متراژ'].astype('int')"
   ]
  },
  {
   "cell_type": "code",
   "execution_count": 66,
   "id": "3160a8ec",
   "metadata": {},
   "outputs": [
    {
     "name": "stderr",
     "output_type": "stream",
     "text": [
      "C:\\Users\\AMIREL~1\\AppData\\Local\\Temp/ipykernel_1424/3303459406.py:1: SettingWithCopyWarning: \n",
      "A value is trying to be set on a copy of a slice from a DataFrame.\n",
      "Try using .loc[row_indexer,col_indexer] = value instead\n",
      "\n",
      "See the caveats in the documentation: https://pandas.pydata.org/pandas-docs/stable/user_guide/indexing.html#returning-a-view-versus-a-copy\n",
      "  df_detail['ناحیه'] = df_detail['ناحیه'].astype('category')\n"
     ]
    }
   ],
   "source": [
    "df_detail['ناحیه'] = df_detail['ناحیه'].astype('category')"
   ]
  },
  {
   "cell_type": "code",
   "execution_count": 72,
   "id": "2922b5b9",
   "metadata": {},
   "outputs": [
    {
     "data": {
      "text/plain": [
       "244"
      ]
     },
     "execution_count": 72,
     "metadata": {},
     "output_type": "execute_result"
    }
   ],
   "source": [
    "df_detail['ناحیه'].cat.codes.max()"
   ]
  },
  {
   "cell_type": "code",
   "execution_count": 75,
   "id": "112bc1ac",
   "metadata": {},
   "outputs": [],
   "source": [
    "True_false_columns = ['بالکن',\n",
    "                      'ایرانی',\n",
    "                      'فرنگی',\n",
    "                      'آسانسور',\n",
    "                      'پارکینگ',\n",
    "                      'انباری',\n",
    "                     ]"
   ]
  },
  {
   "cell_type": "code",
   "execution_count": 76,
   "id": "1ff94a0a",
   "metadata": {},
   "outputs": [
    {
     "name": "stderr",
     "output_type": "stream",
     "text": [
      "C:\\Users\\AMIREL~1\\AppData\\Local\\Temp/ipykernel_1424/4061765738.py:2: SettingWithCopyWarning: \n",
      "A value is trying to be set on a copy of a slice from a DataFrame.\n",
      "Try using .loc[row_indexer,col_indexer] = value instead\n",
      "\n",
      "See the caveats in the documentation: https://pandas.pydata.org/pandas-docs/stable/user_guide/indexing.html#returning-a-view-versus-a-copy\n",
      "  df_detail[obj] = df_detail[obj].astype('bool')\n"
     ]
    }
   ],
   "source": [
    "for obj in True_false_columns:\n",
    "    df_detail[obj] = df_detail[obj].astype('bool')"
   ]
  },
  {
   "cell_type": "code",
   "execution_count": 96,
   "id": "e644ad5d",
   "metadata": {},
   "outputs": [
    {
     "name": "stderr",
     "output_type": "stream",
     "text": [
      "C:\\Users\\AMIREL~1\\AppData\\Local\\Temp/ipykernel_1424/3176075015.py:2: SettingWithCopyWarning: \n",
      "A value is trying to be set on a copy of a slice from a DataFrame.\n",
      "Try using .loc[row_indexer,col_indexer] = value instead\n",
      "\n",
      "See the caveats in the documentation: https://pandas.pydata.org/pandas-docs/stable/user_guide/indexing.html#returning-a-view-versus-a-copy\n",
      "  df_detail[col] =  df_detail[col].str.replace('٫', '').str.replace('تومان', '').dropna().astype('int64')\n"
     ]
    }
   ],
   "source": [
    "for col in ['قیمت کل', 'قیمت هر متر']:\n",
    "    df_detail[col] =  df_detail[col].str.replace('٫', '').str.replace('تومان', '').dropna().astype('int64')"
   ]
  },
  {
   "cell_type": "code",
   "execution_count": 184,
   "id": "0d33cf9c",
   "metadata": {},
   "outputs": [
    {
     "data": {
      "text/html": [
       "<div>\n",
       "<style scoped>\n",
       "    .dataframe tbody tr th:only-of-type {\n",
       "        vertical-align: middle;\n",
       "    }\n",
       "\n",
       "    .dataframe tbody tr th {\n",
       "        vertical-align: top;\n",
       "    }\n",
       "\n",
       "    .dataframe thead th {\n",
       "        text-align: right;\n",
       "    }\n",
       "</style>\n",
       "<table border=\"1\" class=\"dataframe\">\n",
       "  <thead>\n",
       "    <tr style=\"text-align: right;\">\n",
       "      <th></th>\n",
       "      <th>ناحیه</th>\n",
       "      <th>متن توضیحات</th>\n",
       "      <th>token</th>\n",
       "      <th>متراژ</th>\n",
       "      <th>ساخت</th>\n",
       "      <th>اتاق</th>\n",
       "      <th>قیمت کل</th>\n",
       "      <th>قیمت هر متر</th>\n",
       "      <th>طبقه</th>\n",
       "      <th>آسانسور</th>\n",
       "      <th>پارکینگ</th>\n",
       "      <th>انباری</th>\n",
       "      <th>جزیئات</th>\n",
       "      <th>تعداد واحد در طبقه</th>\n",
       "      <th>سند</th>\n",
       "      <th>امکانات</th>\n",
       "      <th>جهت ساختمان</th>\n",
       "      <th>وضعیت واحد</th>\n",
       "    </tr>\n",
       "  </thead>\n",
       "  <tbody>\n",
       "    <tr>\n",
       "      <th>0</th>\n",
       "      <td>دریاچه شهدای خلیج فارس</td>\n",
       "      <td>17 سال خدمت .قرارداد امضا شده.</td>\n",
       "      <td>QYAlLZs1</td>\n",
       "      <td>۲۰</td>\n",
       "      <td>۱۴۰۰</td>\n",
       "      <td>0</td>\n",
       "      <td>180000000.0</td>\n",
       "      <td>9000000.0</td>\n",
       "      <td>۳۰</td>\n",
       "      <td>1.0</td>\n",
       "      <td>True</td>\n",
       "      <td>1.0</td>\n",
       "      <td>False</td>\n",
       "      <td>NaN</td>\n",
       "      <td>NaN</td>\n",
       "      <td>NaN</td>\n",
       "      <td>NaN</td>\n",
       "      <td>NaN</td>\n",
       "    </tr>\n",
       "    <tr>\n",
       "      <th>1</th>\n",
       "      <td>چیتگر</td>\n",
       "      <td>۲۵سال \\nواریزی ۹۹\\nاملاک محترم تماس نگیرد</td>\n",
       "      <td>QYABJPpy</td>\n",
       "      <td>۲۰</td>\n",
       "      <td>۱۴۰۰</td>\n",
       "      <td>0</td>\n",
       "      <td>180000000.0</td>\n",
       "      <td>9000000.0</td>\n",
       "      <td>۹</td>\n",
       "      <td>1.0</td>\n",
       "      <td>True</td>\n",
       "      <td>1.0</td>\n",
       "      <td>False</td>\n",
       "      <td>NaN</td>\n",
       "      <td>NaN</td>\n",
       "      <td>NaN</td>\n",
       "      <td>NaN</td>\n",
       "      <td>NaN</td>\n",
       "    </tr>\n",
       "    <tr>\n",
       "      <th>2</th>\n",
       "      <td>ورامین</td>\n",
       "      <td>سند تک برگ اعیان، انشعابات همه قابل استفاده. د...</td>\n",
       "      <td>QYA5G7eQ</td>\n",
       "      <td>۵۴</td>\n",
       "      <td>۱۳۹۱</td>\n",
       "      <td>۱</td>\n",
       "      <td>200000000.0</td>\n",
       "      <td>3704000.0</td>\n",
       "      <td>۱ از ۳</td>\n",
       "      <td>0.0</td>\n",
       "      <td>False</td>\n",
       "      <td>1.0</td>\n",
       "      <td>True</td>\n",
       "      <td>۲</td>\n",
       "      <td>تک‌برگ</td>\n",
       "      <td>[آسانسور ندارد, پارکینگ ندارد, انباری, سرویس ب...</td>\n",
       "      <td>NaN</td>\n",
       "      <td>NaN</td>\n",
       "    </tr>\n",
       "    <tr>\n",
       "      <th>3</th>\n",
       "      <td>پردیس</td>\n",
       "      <td>یک واحد اپارتمان با پارکینگ و انباری مسقف \\nام...</td>\n",
       "      <td>QYAljBlw</td>\n",
       "      <td>۱۰۰</td>\n",
       "      <td>۱۴۰۰</td>\n",
       "      <td>۲</td>\n",
       "      <td>200000000.0</td>\n",
       "      <td>2000000.0</td>\n",
       "      <td>۲</td>\n",
       "      <td>1.0</td>\n",
       "      <td>True</td>\n",
       "      <td>1.0</td>\n",
       "      <td>False</td>\n",
       "      <td>NaN</td>\n",
       "      <td>NaN</td>\n",
       "      <td>NaN</td>\n",
       "      <td>NaN</td>\n",
       "      <td>NaN</td>\n",
       "    </tr>\n",
       "    <tr>\n",
       "      <th>4</th>\n",
       "      <td>پردیس</td>\n",
       "      <td>بهترین سرمایه گذاری در پردیس \\nباکمترین هزینه ...</td>\n",
       "      <td>QYm0jW90</td>\n",
       "      <td>۱۰۰</td>\n",
       "      <td>۱۳۹۹</td>\n",
       "      <td>۲</td>\n",
       "      <td>200000000.0</td>\n",
       "      <td>2000000.0</td>\n",
       "      <td>۲</td>\n",
       "      <td>1.0</td>\n",
       "      <td>True</td>\n",
       "      <td>1.0</td>\n",
       "      <td>False</td>\n",
       "      <td>NaN</td>\n",
       "      <td>NaN</td>\n",
       "      <td>NaN</td>\n",
       "      <td>NaN</td>\n",
       "      <td>NaN</td>\n",
       "    </tr>\n",
       "    <tr>\n",
       "      <th>...</th>\n",
       "      <td>...</td>\n",
       "      <td>...</td>\n",
       "      <td>...</td>\n",
       "      <td>...</td>\n",
       "      <td>...</td>\n",
       "      <td>...</td>\n",
       "      <td>...</td>\n",
       "      <td>...</td>\n",
       "      <td>...</td>\n",
       "      <td>...</td>\n",
       "      <td>...</td>\n",
       "      <td>...</td>\n",
       "      <td>...</td>\n",
       "      <td>...</td>\n",
       "      <td>...</td>\n",
       "      <td>...</td>\n",
       "      <td>...</td>\n",
       "      <td>...</td>\n",
       "    </tr>\n",
       "    <tr>\n",
       "      <th>25421</th>\n",
       "      <td>رودهن</td>\n",
       "      <td>75 متری فول، بر سجادیان\\nفول امکانات کابینت ام...</td>\n",
       "      <td>QYogYjYJ</td>\n",
       "      <td>۷۵</td>\n",
       "      <td>۱۳۹۳</td>\n",
       "      <td>۲</td>\n",
       "      <td>975000000.0</td>\n",
       "      <td>13000000.0</td>\n",
       "      <td>۱</td>\n",
       "      <td>1.0</td>\n",
       "      <td>True</td>\n",
       "      <td>1.0</td>\n",
       "      <td>False</td>\n",
       "      <td>NaN</td>\n",
       "      <td>NaN</td>\n",
       "      <td>NaN</td>\n",
       "      <td>NaN</td>\n",
       "      <td>NaN</td>\n",
       "    </tr>\n",
       "    <tr>\n",
       "      <th>25422</th>\n",
       "      <td>شبیری</td>\n",
       "      <td>اپارتمان شیک و مجلل و زیر قیمت \\n\\n۴۵ متر دو خ...</td>\n",
       "      <td>QYvAYMCR</td>\n",
       "      <td>۴۵</td>\n",
       "      <td>۱۳۹۱</td>\n",
       "      <td>۲</td>\n",
       "      <td>980000000.0</td>\n",
       "      <td>21778000.0</td>\n",
       "      <td>۴ از ۵</td>\n",
       "      <td>1.0</td>\n",
       "      <td>True</td>\n",
       "      <td>1.0</td>\n",
       "      <td>True</td>\n",
       "      <td>۴</td>\n",
       "      <td>تک‌برگ</td>\n",
       "      <td>[آسانسور, پارکینگ, انباری, بالکن, جنس کف سرامی...</td>\n",
       "      <td>NaN</td>\n",
       "      <td>NaN</td>\n",
       "    </tr>\n",
       "    <tr>\n",
       "      <th>25423</th>\n",
       "      <td>سلسبیل</td>\n",
       "      <td>۴۱متر     تک خواب\\n\\nاسانسور \\n\\nگذر ۱۰ متر\\n\\...</td>\n",
       "      <td>QYxICWOu</td>\n",
       "      <td>۴۱</td>\n",
       "      <td>۱۳۹۵</td>\n",
       "      <td>۱</td>\n",
       "      <td>920000000.0</td>\n",
       "      <td>22439000.0</td>\n",
       "      <td>۱</td>\n",
       "      <td>1.0</td>\n",
       "      <td>False</td>\n",
       "      <td>0.0</td>\n",
       "      <td>False</td>\n",
       "      <td>NaN</td>\n",
       "      <td>NaN</td>\n",
       "      <td>NaN</td>\n",
       "      <td>NaN</td>\n",
       "      <td>NaN</td>\n",
       "    </tr>\n",
       "    <tr>\n",
       "      <th>25424</th>\n",
       "      <td>شهر قدس</td>\n",
       "      <td>با سلام \\nواحد ۹۰ متری فول امکانات ،:\\nپارکینگ...</td>\n",
       "      <td>QYHQNmZp</td>\n",
       "      <td>۹۰</td>\n",
       "      <td>۱۳۹۸</td>\n",
       "      <td>۲</td>\n",
       "      <td>945000000.0</td>\n",
       "      <td>10500000.0</td>\n",
       "      <td>۱ از ۵</td>\n",
       "      <td>1.0</td>\n",
       "      <td>True</td>\n",
       "      <td>1.0</td>\n",
       "      <td>True</td>\n",
       "      <td>۲</td>\n",
       "      <td>NaN</td>\n",
       "      <td>[آسانسور, پارکینگ, انباری, بالکن, جنس کف سرامی...</td>\n",
       "      <td>NaN</td>\n",
       "      <td>NaN</td>\n",
       "    </tr>\n",
       "    <tr>\n",
       "      <th>25425</th>\n",
       "      <td>آهنگ</td>\n",
       "      <td>53 متری فوق العاده\\nبر بلوار گلشناس\\nتک واحد \\...</td>\n",
       "      <td>QYoIMfBx</td>\n",
       "      <td>۵۳</td>\n",
       "      <td>۱۳۸۳</td>\n",
       "      <td>۱</td>\n",
       "      <td>990000000.0</td>\n",
       "      <td>18679000.0</td>\n",
       "      <td>۱</td>\n",
       "      <td>0.0</td>\n",
       "      <td>False</td>\n",
       "      <td>1.0</td>\n",
       "      <td>True</td>\n",
       "      <td>NaN</td>\n",
       "      <td>NaN</td>\n",
       "      <td>[آسانسور ندارد, پارکینگ ندارد, انباری, بالکن, ...</td>\n",
       "      <td>جنوبی</td>\n",
       "      <td>بازسازی شده</td>\n",
       "    </tr>\n",
       "  </tbody>\n",
       "</table>\n",
       "<p>25426 rows × 18 columns</p>\n",
       "</div>"
      ],
      "text/plain": [
       "                        ناحیه  \\\n",
       "0      دریاچه شهدای خلیج فارس   \n",
       "1                       چیتگر   \n",
       "2                      ورامین   \n",
       "3                       پردیس   \n",
       "4                       پردیس   \n",
       "...                       ...   \n",
       "25421                   رودهن   \n",
       "25422                   شبیری   \n",
       "25423                  سلسبیل   \n",
       "25424                 شهر قدس   \n",
       "25425                    آهنگ   \n",
       "\n",
       "                                             متن توضیحات     token متراژ  \\\n",
       "0                         17 سال خدمت .قرارداد امضا شده.  QYAlLZs1    ۲۰   \n",
       "1              ۲۵سال \\nواریزی ۹۹\\nاملاک محترم تماس نگیرد  QYABJPpy    ۲۰   \n",
       "2      سند تک برگ اعیان، انشعابات همه قابل استفاده. د...  QYA5G7eQ    ۵۴   \n",
       "3      یک واحد اپارتمان با پارکینگ و انباری مسقف \\nام...  QYAljBlw   ۱۰۰   \n",
       "4      بهترین سرمایه گذاری در پردیس \\nباکمترین هزینه ...  QYm0jW90   ۱۰۰   \n",
       "...                                                  ...       ...   ...   \n",
       "25421  75 متری فول، بر سجادیان\\nفول امکانات کابینت ام...  QYogYjYJ    ۷۵   \n",
       "25422  اپارتمان شیک و مجلل و زیر قیمت \\n\\n۴۵ متر دو خ...  QYvAYMCR    ۴۵   \n",
       "25423  ۴۱متر     تک خواب\\n\\nاسانسور \\n\\nگذر ۱۰ متر\\n\\...  QYxICWOu    ۴۱   \n",
       "25424  با سلام \\nواحد ۹۰ متری فول امکانات ،:\\nپارکینگ...  QYHQNmZp    ۹۰   \n",
       "25425  53 متری فوق العاده\\nبر بلوار گلشناس\\nتک واحد \\...  QYoIMfBx    ۵۳   \n",
       "\n",
       "       ساخت اتاق      قیمت کل  قیمت هر متر    طبقه  آسانسور پارکینگ  انباری  \\\n",
       "0      ۱۴۰۰    0  180000000.0    9000000.0      ۳۰      1.0    True     1.0   \n",
       "1      ۱۴۰۰    0  180000000.0    9000000.0       ۹      1.0    True     1.0   \n",
       "2      ۱۳۹۱    ۱  200000000.0    3704000.0  ۱ از ۳      0.0   False     1.0   \n",
       "3      ۱۴۰۰    ۲  200000000.0    2000000.0       ۲      1.0    True     1.0   \n",
       "4      ۱۳۹۹    ۲  200000000.0    2000000.0       ۲      1.0    True     1.0   \n",
       "...     ...  ...          ...          ...     ...      ...     ...     ...   \n",
       "25421  ۱۳۹۳    ۲  975000000.0   13000000.0       ۱      1.0    True     1.0   \n",
       "25422  ۱۳۹۱    ۲  980000000.0   21778000.0  ۴ از ۵      1.0    True     1.0   \n",
       "25423  ۱۳۹۵    ۱  920000000.0   22439000.0       ۱      1.0   False     0.0   \n",
       "25424  ۱۳۹۸    ۲  945000000.0   10500000.0  ۱ از ۵      1.0    True     1.0   \n",
       "25425  ۱۳۸۳    ۱  990000000.0   18679000.0       ۱      0.0   False     1.0   \n",
       "\n",
       "       جزیئات تعداد واحد در طبقه     سند  \\\n",
       "0       False                NaN     NaN   \n",
       "1       False                NaN     NaN   \n",
       "2        True                  ۲  تک‌برگ   \n",
       "3       False                NaN     NaN   \n",
       "4       False                NaN     NaN   \n",
       "...       ...                ...     ...   \n",
       "25421   False                NaN     NaN   \n",
       "25422    True                  ۴  تک‌برگ   \n",
       "25423   False                NaN     NaN   \n",
       "25424    True                  ۲     NaN   \n",
       "25425    True                NaN     NaN   \n",
       "\n",
       "                                                 امکانات جهت ساختمان  \\\n",
       "0                                                    NaN         NaN   \n",
       "1                                                    NaN         NaN   \n",
       "2      [آسانسور ندارد, پارکینگ ندارد, انباری, سرویس ب...         NaN   \n",
       "3                                                    NaN         NaN   \n",
       "4                                                    NaN         NaN   \n",
       "...                                                  ...         ...   \n",
       "25421                                                NaN         NaN   \n",
       "25422  [آسانسور, پارکینگ, انباری, بالکن, جنس کف سرامی...         NaN   \n",
       "25423                                                NaN         NaN   \n",
       "25424  [آسانسور, پارکینگ, انباری, بالکن, جنس کف سرامی...         NaN   \n",
       "25425  [آسانسور ندارد, پارکینگ ندارد, انباری, بالکن, ...       جنوبی   \n",
       "\n",
       "        وضعیت واحد  \n",
       "0              NaN  \n",
       "1              NaN  \n",
       "2              NaN  \n",
       "3              NaN  \n",
       "4              NaN  \n",
       "...            ...  \n",
       "25421          NaN  \n",
       "25422          NaN  \n",
       "25423          NaN  \n",
       "25424          NaN  \n",
       "25425  بازسازی شده  \n",
       "\n",
       "[25426 rows x 18 columns]"
      ]
     },
     "execution_count": 184,
     "metadata": {},
     "output_type": "execute_result"
    }
   ],
   "source": [
    "df"
   ]
  },
  {
   "cell_type": "code",
   "execution_count": 183,
   "id": "a681db92",
   "metadata": {},
   "outputs": [
    {
     "ename": "AttributeError",
     "evalue": "Can only use .str accessor with string values!",
     "output_type": "error",
     "traceback": [
      "\u001b[1;31m---------------------------------------------------------------------------\u001b[0m",
      "\u001b[1;31mAttributeError\u001b[0m                            Traceback (most recent call last)",
      "\u001b[1;32mC:\\Users\\AMIREL~1\\AppData\\Local\\Temp/ipykernel_1424/3328946052.py\u001b[0m in \u001b[0;36m<module>\u001b[1;34m\u001b[0m\n\u001b[0;32m      1\u001b[0m \u001b[1;32mfor\u001b[0m \u001b[0mcol\u001b[0m \u001b[1;32min\u001b[0m \u001b[1;33m[\u001b[0m\u001b[1;34m'قیمت کل'\u001b[0m\u001b[1;33m,\u001b[0m \u001b[1;34m'قیمت هر متر'\u001b[0m\u001b[1;33m]\u001b[0m\u001b[1;33m:\u001b[0m\u001b[1;33m\u001b[0m\u001b[1;33m\u001b[0m\u001b[0m\n\u001b[1;32m----> 2\u001b[1;33m     \u001b[0mdf\u001b[0m\u001b[1;33m[\u001b[0m\u001b[0mcol\u001b[0m\u001b[1;33m]\u001b[0m \u001b[1;33m=\u001b[0m  \u001b[0mdf\u001b[0m\u001b[1;33m[\u001b[0m\u001b[0mcol\u001b[0m\u001b[1;33m]\u001b[0m\u001b[1;33m.\u001b[0m\u001b[0mstr\u001b[0m\u001b[1;33m.\u001b[0m\u001b[0mreplace\u001b[0m\u001b[1;33m(\u001b[0m\u001b[1;34m'٫'\u001b[0m\u001b[1;33m,\u001b[0m \u001b[1;34m''\u001b[0m\u001b[1;33m)\u001b[0m\u001b[1;33m.\u001b[0m\u001b[0mstr\u001b[0m\u001b[1;33m.\u001b[0m\u001b[0mreplace\u001b[0m\u001b[1;33m(\u001b[0m\u001b[1;34m'تومان'\u001b[0m\u001b[1;33m,\u001b[0m \u001b[1;34m''\u001b[0m\u001b[1;33m)\u001b[0m\u001b[1;33m.\u001b[0m\u001b[0mdropna\u001b[0m\u001b[1;33m(\u001b[0m\u001b[1;33m)\u001b[0m\u001b[1;33m.\u001b[0m\u001b[0mastype\u001b[0m\u001b[1;33m(\u001b[0m\u001b[1;34m'int64'\u001b[0m\u001b[1;33m)\u001b[0m\u001b[1;33m\u001b[0m\u001b[1;33m\u001b[0m\u001b[0m\n\u001b[0m",
      "\u001b[1;32mc:\\python\\python39\\lib\\site-packages\\pandas\\core\\generic.py\u001b[0m in \u001b[0;36m__getattr__\u001b[1;34m(self, name)\u001b[0m\n\u001b[0;32m   5476\u001b[0m         ):\n\u001b[0;32m   5477\u001b[0m             \u001b[1;32mreturn\u001b[0m \u001b[0mself\u001b[0m\u001b[1;33m[\u001b[0m\u001b[0mname\u001b[0m\u001b[1;33m]\u001b[0m\u001b[1;33m\u001b[0m\u001b[1;33m\u001b[0m\u001b[0m\n\u001b[1;32m-> 5478\u001b[1;33m         \u001b[1;32mreturn\u001b[0m \u001b[0mobject\u001b[0m\u001b[1;33m.\u001b[0m\u001b[0m__getattribute__\u001b[0m\u001b[1;33m(\u001b[0m\u001b[0mself\u001b[0m\u001b[1;33m,\u001b[0m \u001b[0mname\u001b[0m\u001b[1;33m)\u001b[0m\u001b[1;33m\u001b[0m\u001b[1;33m\u001b[0m\u001b[0m\n\u001b[0m\u001b[0;32m   5479\u001b[0m \u001b[1;33m\u001b[0m\u001b[0m\n\u001b[0;32m   5480\u001b[0m     \u001b[1;32mdef\u001b[0m \u001b[0m__setattr__\u001b[0m\u001b[1;33m(\u001b[0m\u001b[0mself\u001b[0m\u001b[1;33m,\u001b[0m \u001b[0mname\u001b[0m\u001b[1;33m:\u001b[0m \u001b[0mstr\u001b[0m\u001b[1;33m,\u001b[0m \u001b[0mvalue\u001b[0m\u001b[1;33m)\u001b[0m \u001b[1;33m->\u001b[0m \u001b[1;32mNone\u001b[0m\u001b[1;33m:\u001b[0m\u001b[1;33m\u001b[0m\u001b[1;33m\u001b[0m\u001b[0m\n",
      "\u001b[1;32mc:\\python\\python39\\lib\\site-packages\\pandas\\core\\accessor.py\u001b[0m in \u001b[0;36m__get__\u001b[1;34m(self, obj, cls)\u001b[0m\n\u001b[0;32m    179\u001b[0m             \u001b[1;31m# we're accessing the attribute of the class, i.e., Dataset.geo\u001b[0m\u001b[1;33m\u001b[0m\u001b[1;33m\u001b[0m\u001b[1;33m\u001b[0m\u001b[0m\n\u001b[0;32m    180\u001b[0m             \u001b[1;32mreturn\u001b[0m \u001b[0mself\u001b[0m\u001b[1;33m.\u001b[0m\u001b[0m_accessor\u001b[0m\u001b[1;33m\u001b[0m\u001b[1;33m\u001b[0m\u001b[0m\n\u001b[1;32m--> 181\u001b[1;33m         \u001b[0maccessor_obj\u001b[0m \u001b[1;33m=\u001b[0m \u001b[0mself\u001b[0m\u001b[1;33m.\u001b[0m\u001b[0m_accessor\u001b[0m\u001b[1;33m(\u001b[0m\u001b[0mobj\u001b[0m\u001b[1;33m)\u001b[0m\u001b[1;33m\u001b[0m\u001b[1;33m\u001b[0m\u001b[0m\n\u001b[0m\u001b[0;32m    182\u001b[0m         \u001b[1;31m# Replace the property with the accessor object. Inspired by:\u001b[0m\u001b[1;33m\u001b[0m\u001b[1;33m\u001b[0m\u001b[1;33m\u001b[0m\u001b[0m\n\u001b[0;32m    183\u001b[0m         \u001b[1;31m# https://www.pydanny.com/cached-property.html\u001b[0m\u001b[1;33m\u001b[0m\u001b[1;33m\u001b[0m\u001b[1;33m\u001b[0m\u001b[0m\n",
      "\u001b[1;32mc:\\python\\python39\\lib\\site-packages\\pandas\\core\\strings\\accessor.py\u001b[0m in \u001b[0;36m__init__\u001b[1;34m(self, data)\u001b[0m\n\u001b[0;32m    166\u001b[0m         \u001b[1;32mfrom\u001b[0m \u001b[0mpandas\u001b[0m\u001b[1;33m.\u001b[0m\u001b[0mcore\u001b[0m\u001b[1;33m.\u001b[0m\u001b[0marrays\u001b[0m\u001b[1;33m.\u001b[0m\u001b[0mstring_\u001b[0m \u001b[1;32mimport\u001b[0m \u001b[0mStringDtype\u001b[0m\u001b[1;33m\u001b[0m\u001b[1;33m\u001b[0m\u001b[0m\n\u001b[0;32m    167\u001b[0m \u001b[1;33m\u001b[0m\u001b[0m\n\u001b[1;32m--> 168\u001b[1;33m         \u001b[0mself\u001b[0m\u001b[1;33m.\u001b[0m\u001b[0m_inferred_dtype\u001b[0m \u001b[1;33m=\u001b[0m \u001b[0mself\u001b[0m\u001b[1;33m.\u001b[0m\u001b[0m_validate\u001b[0m\u001b[1;33m(\u001b[0m\u001b[0mdata\u001b[0m\u001b[1;33m)\u001b[0m\u001b[1;33m\u001b[0m\u001b[1;33m\u001b[0m\u001b[0m\n\u001b[0m\u001b[0;32m    169\u001b[0m         \u001b[0mself\u001b[0m\u001b[1;33m.\u001b[0m\u001b[0m_is_categorical\u001b[0m \u001b[1;33m=\u001b[0m \u001b[0mis_categorical_dtype\u001b[0m\u001b[1;33m(\u001b[0m\u001b[0mdata\u001b[0m\u001b[1;33m.\u001b[0m\u001b[0mdtype\u001b[0m\u001b[1;33m)\u001b[0m\u001b[1;33m\u001b[0m\u001b[1;33m\u001b[0m\u001b[0m\n\u001b[0;32m    170\u001b[0m         \u001b[0mself\u001b[0m\u001b[1;33m.\u001b[0m\u001b[0m_is_string\u001b[0m \u001b[1;33m=\u001b[0m \u001b[0misinstance\u001b[0m\u001b[1;33m(\u001b[0m\u001b[0mdata\u001b[0m\u001b[1;33m.\u001b[0m\u001b[0mdtype\u001b[0m\u001b[1;33m,\u001b[0m \u001b[0mStringDtype\u001b[0m\u001b[1;33m)\u001b[0m\u001b[1;33m\u001b[0m\u001b[1;33m\u001b[0m\u001b[0m\n",
      "\u001b[1;32mc:\\python\\python39\\lib\\site-packages\\pandas\\core\\strings\\accessor.py\u001b[0m in \u001b[0;36m_validate\u001b[1;34m(data)\u001b[0m\n\u001b[0;32m    223\u001b[0m \u001b[1;33m\u001b[0m\u001b[0m\n\u001b[0;32m    224\u001b[0m         \u001b[1;32mif\u001b[0m \u001b[0minferred_dtype\u001b[0m \u001b[1;32mnot\u001b[0m \u001b[1;32min\u001b[0m \u001b[0mallowed_types\u001b[0m\u001b[1;33m:\u001b[0m\u001b[1;33m\u001b[0m\u001b[1;33m\u001b[0m\u001b[0m\n\u001b[1;32m--> 225\u001b[1;33m             \u001b[1;32mraise\u001b[0m \u001b[0mAttributeError\u001b[0m\u001b[1;33m(\u001b[0m\u001b[1;34m\"Can only use .str accessor with string values!\"\u001b[0m\u001b[1;33m)\u001b[0m\u001b[1;33m\u001b[0m\u001b[1;33m\u001b[0m\u001b[0m\n\u001b[0m\u001b[0;32m    226\u001b[0m         \u001b[1;32mreturn\u001b[0m \u001b[0minferred_dtype\u001b[0m\u001b[1;33m\u001b[0m\u001b[1;33m\u001b[0m\u001b[0m\n\u001b[0;32m    227\u001b[0m \u001b[1;33m\u001b[0m\u001b[0m\n",
      "\u001b[1;31mAttributeError\u001b[0m: Can only use .str accessor with string values!"
     ]
    }
   ],
   "source": [
    "for col in ['قیمت کل', 'قیمت هر متر']:\n",
    "    df[col] =  df[col].str.replace('٫', '').str.replace('تومان', '').dropna().astype('int64')"
   ]
  },
  {
   "cell_type": "code",
   "execution_count": 78,
   "id": "e7ab91fe",
   "metadata": {},
   "outputs": [],
   "source": [
    "def year2num(txt:str):\n",
    "    if txt.isnumeric():\n",
    "        return int(txt)\n",
    "    else:\n",
    "        return 1370"
   ]
  },
  {
   "cell_type": "code",
   "execution_count": 100,
   "id": "e7272d87",
   "metadata": {},
   "outputs": [
    {
     "name": "stderr",
     "output_type": "stream",
     "text": [
      "C:\\Users\\AMIREL~1\\AppData\\Local\\Temp/ipykernel_1424/2090302794.py:1: SettingWithCopyWarning: \n",
      "A value is trying to be set on a copy of a slice from a DataFrame.\n",
      "Try using .loc[row_indexer,col_indexer] = value instead\n",
      "\n",
      "See the caveats in the documentation: https://pandas.pydata.org/pandas-docs/stable/user_guide/indexing.html#returning-a-view-versus-a-copy\n",
      "  df_detail['ساخت'] = df_detail.agg({'ساخت':year2num})\n"
     ]
    }
   ],
   "source": [
    "df_detail['ساخت'] = df_detail.agg({'ساخت':year2num})"
   ]
  },
  {
   "cell_type": "code",
   "execution_count": 151,
   "id": "709a3cff",
   "metadata": {},
   "outputs": [
    {
     "data": {
      "text/plain": [
       "array(['۱', '۲', '۴', '۵', '۶', '۳', 'همکف', 'زیرهمکف', '۲۰', '۷', '۱۲',\n",
       "       '۱۵', '۹', '۱۰', '+۳۰', '۱۱', '۱۳', '۱۴', '۸', '۳۰', '۲۹', '۳۰+',\n",
       "       '۲۴', '۲۵', '۱۹', '۱۶'], dtype=object)"
      ]
     },
     "execution_count": 151,
     "metadata": {},
     "output_type": "execute_result"
    }
   ],
   "source": [
    "df_detail['طبقه واحد'].unique()"
   ]
  },
  {
   "cell_type": "code",
   "execution_count": 158,
   "id": "bfbbbd64",
   "metadata": {},
   "outputs": [],
   "source": [
    "def choose_floor(txt):\n",
    "    split = txt.split(' از ')[0]\n",
    "    if split.isnumeric():\n",
    "        split = int(split)\n",
    "    else:\n",
    "        split = {'زیرهمکف':-1,\n",
    "                 'همکف':0,\n",
    "                 '+۳۰':31,\n",
    "                 '۳۰+':31}[split]\n",
    "    return split    "
   ]
  },
  {
   "cell_type": "code",
   "execution_count": 159,
   "id": "7ead0f7f",
   "metadata": {},
   "outputs": [
    {
     "name": "stderr",
     "output_type": "stream",
     "text": [
      "C:\\Users\\AMIREL~1\\AppData\\Local\\Temp/ipykernel_1424/2776735265.py:1: SettingWithCopyWarning: \n",
      "A value is trying to be set on a copy of a slice from a DataFrame.\n",
      "Try using .loc[row_indexer,col_indexer] = value instead\n",
      "\n",
      "See the caveats in the documentation: https://pandas.pydata.org/pandas-docs/stable/user_guide/indexing.html#returning-a-view-versus-a-copy\n",
      "  df_detail['طبقه واحد'] = df_detail['طبقه'].apply(lambda x: choose_floor(x))\n"
     ]
    }
   ],
   "source": [
    "df_detail['طبقه واحد'] = df_detail['طبقه'].apply(lambda x: choose_floor(x))"
   ]
  },
  {
   "cell_type": "code",
   "execution_count": 161,
   "id": "b1268ae9",
   "metadata": {},
   "outputs": [
    {
     "name": "stderr",
     "output_type": "stream",
     "text": [
      "C:\\Users\\AMIREL~1\\AppData\\Local\\Temp/ipykernel_1424/2387068707.py:1: SettingWithCopyWarning: \n",
      "A value is trying to be set on a copy of a slice from a DataFrame.\n",
      "Try using .loc[row_indexer,col_indexer] = value instead\n",
      "\n",
      "See the caveats in the documentation: https://pandas.pydata.org/pandas-docs/stable/user_guide/indexing.html#returning-a-view-versus-a-copy\n",
      "  df_detail['کل طبقات'] = df_detail['طبقه'].apply(lambda x: int(x.split(' از ')[1]) if len(x.split(' از '))==2 else 0)\n"
     ]
    }
   ],
   "source": [
    "df_detail['کل طبقات'] = df_detail['طبقه'].apply(lambda x: int(x.split(' از ')[1]) if len(x.split(' از '))==2 else 0)"
   ]
  },
  {
   "cell_type": "code",
   "execution_count": 203,
   "id": "e25beb95",
   "metadata": {},
   "outputs": [
    {
     "data": {
      "text/plain": [
       "(62623, 22)"
      ]
     },
     "execution_count": 203,
     "metadata": {},
     "output_type": "execute_result"
    }
   ],
   "source": [
    "df.shape"
   ]
  },
  {
   "cell_type": "code",
   "execution_count": 204,
   "id": "6de2ab06",
   "metadata": {},
   "outputs": [
    {
     "data": {
      "text/plain": [
       "تک‌برگ         24909\n",
       "منگوله‌دار      1119\n",
       "سایر            1024\n",
       "قول‌نامه‌ای      361\n",
       "Name: سند, dtype: int64"
      ]
     },
     "execution_count": 204,
     "metadata": {},
     "output_type": "execute_result"
    }
   ],
   "source": [
    "df['سند'].value_counts()"
   ]
  },
  {
   "cell_type": "code",
   "execution_count": 206,
   "id": "cfec62d9",
   "metadata": {},
   "outputs": [
    {
     "data": {
      "text/plain": [
       "0        ۱٫۱۰۰٫۰۰۰٫۰۰۰ تومان\n",
       "1        ۱٫۱۰۰٫۰۰۰٫۰۰۰ تومان\n",
       "2        ۱٫۱۰۰٫۰۰۰٫۰۰۰ تومان\n",
       "3        ۱٫۰۵۰٫۰۰۰٫۰۰۰ تومان\n",
       "4        ۱٫۱۰۰٫۰۰۰٫۰۰۰ تومان\n",
       "                ...         \n",
       "62618    ۴٫۶۸۰٫۰۰۰٫۰۰۰ تومان\n",
       "62619    ۴٫۷۰۰٫۰۰۰٫۰۰۰ تومان\n",
       "62620    ۴٫۷۰۰٫۰۰۰٫۰۰۰ تومان\n",
       "62621    ۴٫۷۰۰٫۰۰۰٫۰۰۰ تومان\n",
       "62622    ۴٫۶۵۰٫۰۰۰٫۰۰۰ تومان\n",
       "Name: قیمت کل, Length: 62623, dtype: object"
      ]
     },
     "execution_count": 206,
     "metadata": {},
     "output_type": "execute_result"
    }
   ],
   "source": [
    "df['قیمت کل']"
   ]
  },
  {
   "cell_type": "code",
   "execution_count": 87,
   "id": "462f5abb",
   "metadata": {},
   "outputs": [
    {
     "data": {
      "text/plain": [
       "0        180000000\n",
       "1        180000000\n",
       "2        200000000\n",
       "3        200000000\n",
       "4        200000000\n",
       "           ...    \n",
       "25421    975000000\n",
       "25422    980000000\n",
       "25423    920000000\n",
       "25424    945000000\n",
       "25425    990000000\n",
       "Name: قیمت کل, Length: 25425, dtype: int64"
      ]
     },
     "execution_count": 87,
     "metadata": {},
     "output_type": "execute_result"
    }
   ],
   "source": [
    "df['قیمت کل'].str.replace('٫', '').str.replace('تومان', '').dropna().astype('int64')"
   ]
  },
  {
   "cell_type": "code",
   "execution_count": 170,
   "id": "9cd3541b",
   "metadata": {},
   "outputs": [
    {
     "name": "stderr",
     "output_type": "stream",
     "text": [
      "c:\\python\\python39\\lib\\site-packages\\pandas\\util\\_decorators.py:311: SettingWithCopyWarning: \n",
      "A value is trying to be set on a copy of a slice from a DataFrame\n",
      "\n",
      "See the caveats in the documentation: https://pandas.pydata.org/pandas-docs/stable/user_guide/indexing.html#returning-a-view-versus-a-copy\n",
      "  return func(*args, **kwargs)\n"
     ]
    }
   ],
   "source": [
    "df_detail.drop_duplicates(subset='token', inplace=True)"
   ]
  },
  {
   "cell_type": "code",
   "execution_count": 178,
   "id": "b21f79ee",
   "metadata": {},
   "outputs": [
    {
     "name": "stderr",
     "output_type": "stream",
     "text": [
      "c:\\python\\python39\\lib\\site-packages\\pandas\\util\\_decorators.py:311: SettingWithCopyWarning: \n",
      "A value is trying to be set on a copy of a slice from a DataFrame\n",
      "\n",
      "See the caveats in the documentation: https://pandas.pydata.org/pandas-docs/stable/user_guide/indexing.html#returning-a-view-versus-a-copy\n",
      "  return func(*args, **kwargs)\n"
     ]
    }
   ],
   "source": [
    "df_detail.dropna(inplace=True)"
   ]
  },
  {
   "cell_type": "code",
   "execution_count": 179,
   "id": "76e837da",
   "metadata": {},
   "outputs": [],
   "source": [
    "MAT_X = df_detail.drop(['طبقه', 'token', 'متن توضیحات','قیمت کل', 'قیمت هر متر'], axis=1)"
   ]
  },
  {
   "cell_type": "code",
   "execution_count": 180,
   "id": "0effcfd4",
   "metadata": {},
   "outputs": [],
   "source": [
    "VEC_Y = df_detail['قیمت کل']"
   ]
  },
  {
   "cell_type": "code",
   "execution_count": 181,
   "id": "569672b4",
   "metadata": {},
   "outputs": [],
   "source": [
    "VEC_Y2 = df_detail['قیمت هر متر']"
   ]
  },
  {
   "cell_type": "code",
   "execution_count": 182,
   "id": "3f7a332c",
   "metadata": {},
   "outputs": [
    {
     "data": {
      "text/plain": [
       "<AxesSubplot:ylabel='Frequency'>"
      ]
     },
     "execution_count": 182,
     "metadata": {},
     "output_type": "execute_result"
    },
    {
     "data": {
      "image/png": "[encoded data removed]",
      "text/plain": [
       "<Figure size 432x288 with 1 Axes>"
      ]
     },
     "metadata": {
      "needs_background": "light"
     },
     "output_type": "display_data"
    }
   ],
   "source": [
    "VEC_Y.plot(kind='hist')"
   ]
  },
  {
   "cell_type": "code",
   "execution_count": 185,
   "id": "4a596046",
   "metadata": {},
   "outputs": [
    {
     "data": {
      "text/plain": [
       "<AxesSubplot:ylabel='Frequency'>"
      ]
     },
     "execution_count": 185,
     "metadata": {},
     "output_type": "execute_result"
    },
    {
     "data": {
      "image/png": "[encoded data removed]",
      "text/plain": [
       "<Figure size 432x288 with 1 Axes>"
      ]
     },
     "metadata": {
      "needs_background": "light"
     },
     "output_type": "display_data"
    }
   ],
   "source": [
    "df['قیمت کل'].plot(kind='hist')"
   ]
  },
  {
   "cell_type": "code",
   "execution_count": 201,
   "id": "6734c0f7",
   "metadata": {},
   "outputs": [],
   "source": [
    "MAT_X.to_pickle('mat_x.pkl')"
   ]
  },
  {
   "cell_type": "code",
   "execution_count": 204,
   "id": "9d52b3c5",
   "metadata": {},
   "outputs": [],
   "source": [
    "VEC_Y.to_pickle('vec_y.pkl')"
   ]
  },
  {
   "cell_type": "code",
   "execution_count": 205,
   "id": "f8d6d344",
   "metadata": {},
   "outputs": [],
   "source": [
    "VEC_Y2.to_pickle('vec_y2.pkl')"
   ]
  },
  {
   "cell_type": "code",
   "execution_count": 202,
   "id": "531135ac",
   "metadata": {},
   "outputs": [],
   "source": [
    "test = pd.read_pickle('mat_x.pkl')"
   ]
  },
  {
   "cell_type": "code",
   "execution_count": 203,
   "id": "d8d1f4da",
   "metadata": {},
   "outputs": [
    {
     "data": {
      "text/plain": [
       "ناحیه                  category\n",
       "متراژ                     int32\n",
       "ساخت                      int64\n",
       "اتاق                      int32\n",
       "آسانسور                    bool\n",
       "پارکینگ                    bool\n",
       "انباری                     bool\n",
       "تعداد واحد در طبقه     category\n",
       "سند                    category\n",
       "جهت ساختمان            category\n",
       "وضعیت واحد             category\n",
       "بالکن                      bool\n",
       "ایرانی                     bool\n",
       "فرنگی                      bool\n",
       "سرمایش                 category\n",
       "گرمایش                 category\n",
       "تأمین‌کننده آب گرم    category\n",
       "جنس کف                 category\n",
       "طبقه واحد                 int64\n",
       "کل طبقات                  int64\n",
       "dtype: object"
      ]
     },
     "execution_count": 203,
     "metadata": {},
     "output_type": "execute_result"
    }
   ],
   "source": [
    "test.dtypes"
   ]
  },
  {
   "cell_type": "code",
   "execution_count": 188,
   "id": "2b4d3b35",
   "metadata": {},
   "outputs": [
    {
     "name": "stdout",
     "output_type": "stream",
     "text": [
      "<class 'pandas.core.frame.DataFrame'>\n",
      "RangeIndex: 2334 entries, 0 to 2333\n",
      "Data columns (total 21 columns):\n",
      " #   Column               Non-Null Count  Dtype \n",
      "---  ------               --------------  ----- \n",
      " 0   Unnamed: 0           2334 non-null   int64 \n",
      " 1   ناحیه                2334 non-null   object\n",
      " 2   متراژ                2334 non-null   int64 \n",
      " 3   ساخت                 2334 non-null   int64 \n",
      " 4   اتاق                 2334 non-null   int64 \n",
      " 5   آسانسور              2334 non-null   bool  \n",
      " 6   پارکینگ              2334 non-null   bool  \n",
      " 7   انباری               2334 non-null   bool  \n",
      " 8   تعداد واحد در طبقه   2334 non-null   object\n",
      " 9   سند                  2334 non-null   object\n",
      " 10  جهت ساختمان          2334 non-null   object\n",
      " 11  وضعیت واحد           2334 non-null   object\n",
      " 12  بالکن                2334 non-null   bool  \n",
      " 13  ایرانی               2334 non-null   bool  \n",
      " 14  فرنگی                2334 non-null   bool  \n",
      " 15  سرمایش               2334 non-null   object\n",
      " 16  گرمایش               2334 non-null   object\n",
      " 17  تأمین‌کننده آب گرم  2334 non-null   object\n",
      " 18  جنس کف               2334 non-null   object\n",
      " 19  طبقه واحد            2334 non-null   int64 \n",
      " 20  کل طبقات             2334 non-null   int64 \n",
      "dtypes: bool(6), int64(6), object(9)\n",
      "memory usage: 287.3+ KB\n"
     ]
    }
   ],
   "source": [
    "test.info()"
   ]
  },
  {
   "cell_type": "code",
   "execution_count": null,
   "id": "4528a056",
   "metadata": {},
   "outputs": [],
   "source": []
  }
 ],
 "metadata": {
  "kernelspec": {
   "display_name": "Python 3 (ipykernel)",
   "language": "python",
   "name": "python3"
  },
  "language_info": {
   "codemirror_mode": {
    "name": "ipython",
    "version": 3
   },
   "file_extension": ".py",
   "mimetype": "text/x-python",
   "name": "python",
   "nbconvert_exporter": "python",
   "pygments_lexer": "ipython3",
   "version": "3.9.6"
  }
 },
 "nbformat": 4,
 "nbformat_minor": 5
}
